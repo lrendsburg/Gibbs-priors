{
 "cells": [
  {
   "cell_type": "code",
   "execution_count": 1,
   "metadata": {},
   "outputs": [
    {
     "name": "stdout",
     "output_type": "stream",
     "text": [
      "env: XLA_FLAGS=--xla_gpu_cuda_data_dir=/usr/local/cuda/\n",
      "env: XLA_PYTHON_CLIENT_PREALLOCATE=false\n",
      "env: XLA_PYTHON_CLIENT_ALLOCATOR=platform\n"
     ]
    }
   ],
   "source": [
    "%env XLA_FLAGS=--xla_gpu_cuda_data_dir=/usr/local/cuda/\n",
    "%env XLA_PYTHON_CLIENT_PREALLOCATE=false\n",
    "%env XLA_PYTHON_CLIENT_ALLOCATOR=platform\n",
    "%load_ext autoreload\n",
    "%autoreload 2\n",
    "import os\n",
    "import numpy as np\n",
    "from jax import random\n",
    "import jax.numpy as jnp\n",
    "from math import *\n",
    "import numpyro as npr\n",
    "import numpyro.distributions as dist\n",
    "import tqdm\n",
    "\n",
    "from numpyro.infer import MCMC, NUTS\n",
    "\n",
    "# npr.set_platform('gpu')"
   ]
  },
  {
   "cell_type": "markdown",
   "metadata": {},
   "source": [
    "### Model"
   ]
  },
  {
   "cell_type": "code",
   "execution_count": 2,
   "metadata": {},
   "outputs": [],
   "source": [
    "# Hyperparams\n",
    "sigma = 0.09\n",
    "nu = 12\n",
    "NUM_STEPS = 100\n",
    "\n",
    "\n",
    "def model(y, theta=None, rng_key=random.PRNGKey(1)):\n",
    "    \"\"\" PyMC3 example http://num.pyro.ai/en/0.6.0/examples/stochastic_volatility.html \"\"\"\n",
    "    rng_key, rng_subkey = random.split(rng_key)\n",
    "\n",
    "    num_steps = len(y) if y is not None else NUM_STEPS\n",
    "    \n",
    "    if theta is None:\n",
    "        log_vol = npr.sample(\n",
    "            'theta', dist.GaussianRandomWalk(scale=sigma, num_steps=num_steps), rng_key=rng_subkey\n",
    "        )\n",
    "    else:\n",
    "        log_vol = theta\n",
    "    \n",
    "    rng_key, rng_subkey = random.split(rng_key)\n",
    "    returns = npr.sample('y', dist.StudentT(df=nu, loc=0., scale=jnp.exp(log_vol)),\n",
    "                         rng_key=rng_subkey, obs=y)\n",
    "    \n",
    "    if theta is None:  \n",
    "        return log_vol  # Given y, sample latent\n",
    "    else:  \n",
    "        return returns  # Given latent, sample y"
   ]
  },
  {
   "cell_type": "markdown",
   "metadata": {},
   "source": [
    "### Methods"
   ]
  },
  {
   "cell_type": "markdown",
   "metadata": {},
   "source": [
    "#### VB and Laplace"
   ]
  },
  {
   "cell_type": "code",
   "execution_count": 4,
   "metadata": {},
   "outputs": [],
   "source": [
    "from numpyro.infer import SVI, Trace_ELBO\n",
    "from numpyro.infer.autoguide import *\n",
    "\n",
    "\n",
    "def train_vb_diag(rng_key, y, pbar=True):    \n",
    "    guide = AutoDiagonalNormal(model)\n",
    "    lr = 1e-3\n",
    "    n_iter = 5000\n",
    "\n",
    "    optimizer = npr.optim.ClippedAdam(step_size=lr)\n",
    "    svi = SVI(model, guide, optimizer, loss=Trace_ELBO(num_particles=100))\n",
    "    svi_result = svi.run(rng_key, n_iter, y=y, progress_bar=pbar)\n",
    "    \n",
    "    return guide, svi_result.params\n",
    "\n",
    "\n",
    "def train_vb_full(rng_key, y, pbar=True):    \n",
    "    guide = AutoMultivariateNormal(model)\n",
    "    lr = 5e-4  # Unstable with large lr\n",
    "    n_iter = 10000  # Compensate with larger num. of iterations\n",
    "    \n",
    "    optimizer = npr.optim.ClippedAdam(step_size=lr)\n",
    "    svi = SVI(model, guide, optimizer, loss=Trace_ELBO(num_particles=100))\n",
    "    svi_result = svi.run(rng_key, n_iter, y=y, progress_bar=pbar)\n",
    "    \n",
    "    return guide, svi_result.params\n",
    "\n",
    "\n",
    "def train_laplace(rng_key, y, pbar=True):    \n",
    "    guide = AutoLaplaceApproximation(model)\n",
    "    lr = 1e-3\n",
    "    n_iter = 5000\n",
    "\n",
    "    optimizer = npr.optim.ClippedAdam(step_size=lr)\n",
    "    svi = SVI(model, guide, optimizer, loss=Trace_ELBO(num_particles=1))\n",
    "    svi_result = svi.run(rng_key, n_iter, y=y, progress_bar=pbar)\n",
    "    \n",
    "    return guide, svi_result.params"
   ]
  },
  {
   "cell_type": "markdown",
   "metadata": {},
   "source": [
    "### Sampling $\\pi_G$"
   ]
  },
  {
   "cell_type": "code",
   "execution_count": 5,
   "metadata": {},
   "outputs": [],
   "source": [
    "POSTERIORS = ['vb_diag', 'vb_full', 'laplace', 'mcmc']\n",
    "POSTERIOR_FUNCS = {\n",
    "    'vb_diag': train_vb_diag, \n",
    "    'vb_full': train_vb_full, \n",
    "    'laplace': train_laplace,\n",
    "}\n",
    "\n",
    "\n",
    "def sample_gibbs_prior(rng_key, posterior, T=100, mcmc_warmup=20, mcmc_samples=20):\n",
    "    assert posterior in POSTERIORS\n",
    "    \n",
    "    theta_samples = []\n",
    "    \n",
    "    rng_key, rng_subkey = random.split(rng_key)\n",
    "    y_t  = model(y=None, rng_key=rng_subkey)\n",
    "    \n",
    "    for t in tqdm.trange(T):     \n",
    "        rng_key, *subkeys = random.split(rng_key, 5)\n",
    "        \n",
    "        # Get q(theta | y_t)\n",
    "        if posterior != 'mcmc':\n",
    "            guide_t, params_t = POSTERIOR_FUNCS[posterior](subkeys[0], y=y_t, pbar=False)\n",
    "            theta_t = guide_t.sample_posterior(subkeys[1], params_t)['theta']\n",
    "        else:\n",
    "            mcmc = MCMC(NUTS(model), num_warmup=mcmc_warmup, num_samples=mcmc_samples,\n",
    "                        progress_bar=False)\n",
    "            mcmc.run(subkeys[2], y_t)\n",
    "            theta_t = mcmc.get_samples()['theta'][-1]\n",
    "    \n",
    "        theta_samples.append(np.array(theta_t).copy())\n",
    "        \n",
    "        # Sample y_t\n",
    "        y_t  = model(y=None, theta=theta_t, rng_key=subkeys[3])\n",
    "        \n",
    "    return theta_samples"
   ]
  },
  {
   "cell_type": "markdown",
   "metadata": {},
   "source": [
    "#### Get samples"
   ]
  },
  {
   "cell_type": "code",
   "execution_count": 8,
   "outputs": [
    {
     "name": "stderr",
     "output_type": "stream",
     "text": [
      "100%|██████████| 10000/10000 [4:36:44<00:00,  1.66s/it] \n",
      "100%|██████████| 10000/10000 [12:58:32<00:00,  4.67s/it] \n",
      "100%|██████████| 10000/10000 [3:34:13<00:00,  1.29s/it] \n",
      "100%|██████████| 10000/10000 [6:37:51<00:00,  2.39s/it]  \n"
     ]
    }
   ],
   "source": [
    "thetas_vb_diag = sample_gibbs_prior(random.PRNGKey(9999), 'vb_diag', T=10000)\n",
    "np.save('../res/volatility/vb_diag', thetas_vb_diag)\n",
    "\n",
    "thetas_vb_full = sample_gibbs_prior(random.PRNGKey(9999), 'vb_full', T=10000)\n",
    "np.save('../res/volatility/vb_full', thetas_vb_full)\n",
    "\n",
    "thetas_laplace = sample_gibbs_prior(random.PRNGKey(9999), 'laplace', T=10000)\n",
    "np.save('../res/volatility/laplace', thetas_laplace)\n",
    "\n",
    "thetas_mcmc = sample_gibbs_prior(random.PRNGKey(9999), 'mcmc', T=10000)\n",
    "np.save('../res/volatility/mcmc', thetas_mcmc)\n",
    "\n",
    "thetas_mcmc_short = sample_gibbs_prior(random.PRNGKey(9999), 'mcmc', T=10000, mcmc_warmup=10, mcmc_samples=1)\n",
    "np.save('../res/volatility/mcmc_short_10', thetas_mcmc_short)"
   ],
   "metadata": {
    "collapsed": false,
    "pycharm": {
     "name": "#%%\n"
    }
   }
  }
 ],
 "metadata": {
  "kernelspec": {
   "display_name": "Python 3",
   "language": "python",
   "name": "python3"
  },
  "language_info": {
   "codemirror_mode": {
    "name": "ipython",
    "version": 3
   },
   "file_extension": ".py",
   "mimetype": "text/x-python",
   "name": "python",
   "nbconvert_exporter": "python",
   "pygments_lexer": "ipython3",
   "version": "3.7.7"
  }
 },
 "nbformat": 4,
 "nbformat_minor": 4
}