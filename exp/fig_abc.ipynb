{
 "cells": [
  {
   "cell_type": "code",
   "execution_count": 29,
   "metadata": {},
   "outputs": [],
   "source": [
    "import numpy as np\n",
    "import seaborn as sns\n",
    "import matplotlib.pyplot as plt\n",
    "from sklearn.neighbors import KernelDensity\n",
    "\n",
    "import numpyro as npr\n",
    "import numpyro.distributions as dist\n",
    "from jax import random\n",
    "\n",
    "import seaborn as sns\n",
    "import matplotlib.pyplot as plt\n",
    "# Plots\n",
    "plt.style.use('seaborn-whitegrid')\n",
    "\n",
    "# PLOT PREAMBLE: LIKE LATEX\n",
    "LATEX_WIDTH = 6\n",
    "LATEX_HEIGHT = 3.24\n",
    "\n",
    "SCRIPT_SIZE = 7\n",
    "\n",
    "#Direct input\n",
    "plt.rcParams['text.latex.preamble']=r\"\\usepackage{lmodern}\"\n",
    "#Options\n",
    "params = {'text.usetex' : True,\n",
    "          'font.size' : SCRIPT_SIZE,\n",
    "          'axes.labelsize' : SCRIPT_SIZE,\n",
    "          'xtick.labelsize' : SCRIPT_SIZE,\n",
    "          'ytick.labelsize' : SCRIPT_SIZE,\n",
    "          'legend.fontsize' : SCRIPT_SIZE,\n",
    "          'figure.titlesize' : SCRIPT_SIZE,\n",
    "          'font.family' : 'serif',\n",
    "          'font.serif': ['Computer Modern Roman']\n",
    "          }\n",
    "plt.rcParams.update(params)"
   ]
  },
  {
   "cell_type": "code",
   "execution_count": 2,
   "outputs": [],
   "source": [
    "# Prior\n",
    "def sample_prior(n_samples):\n",
    "    rng_keys = random.split(random.PRNGKey(1), 2)\n",
    "    mu = npr.sample('mu', dist.Normal(0, 1), sample_shape=(n_samples, 1), rng_key=rng_keys[0])\n",
    "    sigma_sq = npr.sample('sigma_sq', dist.Gamma(1, 1), sample_shape=(n_samples, 1), rng_key=rng_keys[1])\n",
    "    theta = np.concatenate((mu, sigma_sq), axis=-1)\n",
    "    return theta"
   ],
   "metadata": {
    "collapsed": false,
    "pycharm": {
     "name": "#%%\n"
    }
   }
  },
  {
   "cell_type": "code",
   "execution_count": 3,
   "outputs": [],
   "source": [
    "# Load data\n",
    "thetas_prior = sample_prior(n_samples=10000)\n",
    "thetas_approx = np.load(f'../res/abc/laplace_approx.npy').squeeze()\n",
    "\n",
    "mu_true, sigma_sq_true = thetas_prior[:, 0], thetas_prior[:, 1]\n",
    "mu_approx, sigma_sq_approx = thetas_approx[:, 0], thetas_approx[:, 1]"
   ],
   "metadata": {
    "collapsed": false,
    "pycharm": {
     "name": "#%%\n"
    }
   }
  },
  {
   "cell_type": "code",
   "execution_count": 33,
   "outputs": [
    {
     "name": "stdout",
     "output_type": "stream",
     "text": [
      "Help on class KernelDensity in module sklearn.neighbors._kde:\n",
      "\n",
      "class KernelDensity(sklearn.base.BaseEstimator)\n",
      " |  KernelDensity(*, bandwidth=1.0, algorithm='auto', kernel='gaussian', metric='euclidean', atol=0, rtol=0, breadth_first=True, leaf_size=40, metric_params=None)\n",
      " |  \n",
      " |  Kernel Density Estimation.\n",
      " |  \n",
      " |  Read more in the :ref:`User Guide <kernel_density>`.\n",
      " |  \n",
      " |  Parameters\n",
      " |  ----------\n",
      " |  bandwidth : float, default=1.0\n",
      " |      The bandwidth of the kernel.\n",
      " |  \n",
      " |  algorithm : {'kd_tree', 'ball_tree', 'auto'}, default='auto'\n",
      " |      The tree algorithm to use.\n",
      " |  \n",
      " |  kernel : {'gaussian', 'tophat', 'epanechnikov', 'exponential', 'linear',                  'cosine'}, default='gaussian'\n",
      " |      The kernel to use.\n",
      " |  \n",
      " |  metric : str, default='euclidean'\n",
      " |      The distance metric to use.  Note that not all metrics are\n",
      " |      valid with all algorithms.  Refer to the documentation of\n",
      " |      :class:`BallTree` and :class:`KDTree` for a description of\n",
      " |      available algorithms.  Note that the normalization of the density\n",
      " |      output is correct only for the Euclidean distance metric. Default\n",
      " |      is 'euclidean'.\n",
      " |  \n",
      " |  atol : float, default=0\n",
      " |      The desired absolute tolerance of the result.  A larger tolerance will\n",
      " |      generally lead to faster execution.\n",
      " |  \n",
      " |  rtol : float, default=0\n",
      " |      The desired relative tolerance of the result.  A larger tolerance will\n",
      " |      generally lead to faster execution.\n",
      " |  \n",
      " |  breadth_first : bool, default=True\n",
      " |      If true (default), use a breadth-first approach to the problem.\n",
      " |      Otherwise use a depth-first approach.\n",
      " |  \n",
      " |  leaf_size : int, default=40\n",
      " |      Specify the leaf size of the underlying tree.  See :class:`BallTree`\n",
      " |      or :class:`KDTree` for details.\n",
      " |  \n",
      " |  metric_params : dict, default=None\n",
      " |      Additional parameters to be passed to the tree for use with the\n",
      " |      metric.  For more information, see the documentation of\n",
      " |      :class:`BallTree` or :class:`KDTree`.\n",
      " |  \n",
      " |  Attributes\n",
      " |  ----------\n",
      " |  n_features_in_ : int\n",
      " |      Number of features seen during :term:`fit`.\n",
      " |  \n",
      " |      .. versionadded:: 0.24\n",
      " |  \n",
      " |  tree_ : ``BinaryTree`` instance\n",
      " |      The tree algorithm for fast generalized N-point problems.\n",
      " |  \n",
      " |  feature_names_in_ : ndarray of shape (`n_features_in_`,)\n",
      " |      Names of features seen during :term:`fit`. Defined only when `X`\n",
      " |      has feature names that are all strings.\n",
      " |  \n",
      " |      .. versionadded:: 1.0\n",
      " |  \n",
      " |  See Also\n",
      " |  --------\n",
      " |  sklearn.neighbors.KDTree : K-dimensional tree for fast generalized N-point\n",
      " |      problems.\n",
      " |  sklearn.neighbors.BallTree : Ball tree for fast generalized N-point\n",
      " |      problems.\n",
      " |  \n",
      " |  Examples\n",
      " |  --------\n",
      " |  Compute a gaussian kernel density estimate with a fixed bandwidth.\n",
      " |  \n",
      " |  >>> from sklearn.neighbors import KernelDensity\n",
      " |  >>> import numpy as np\n",
      " |  >>> rng = np.random.RandomState(42)\n",
      " |  >>> X = rng.random_sample((100, 3))\n",
      " |  >>> kde = KernelDensity(kernel='gaussian', bandwidth=0.5).fit(X)\n",
      " |  >>> log_density = kde.score_samples(X[:3])\n",
      " |  >>> log_density\n",
      " |  array([-1.52955942, -1.51462041, -1.60244657])\n",
      " |  \n",
      " |  Method resolution order:\n",
      " |      KernelDensity\n",
      " |      sklearn.base.BaseEstimator\n",
      " |      builtins.object\n",
      " |  \n",
      " |  Methods defined here:\n",
      " |  \n",
      " |  __init__(self, *, bandwidth=1.0, algorithm='auto', kernel='gaussian', metric='euclidean', atol=0, rtol=0, breadth_first=True, leaf_size=40, metric_params=None)\n",
      " |      Initialize self.  See help(type(self)) for accurate signature.\n",
      " |  \n",
      " |  fit(self, X, y=None, sample_weight=None)\n",
      " |      Fit the Kernel Density model on the data.\n",
      " |      \n",
      " |      Parameters\n",
      " |      ----------\n",
      " |      X : array-like of shape (n_samples, n_features)\n",
      " |          List of n_features-dimensional data points.  Each row\n",
      " |          corresponds to a single data point.\n",
      " |      \n",
      " |      y : None\n",
      " |          Ignored. This parameter exists only for compatibility with\n",
      " |          :class:`~sklearn.pipeline.Pipeline`.\n",
      " |      \n",
      " |      sample_weight : array-like of shape (n_samples,), default=None\n",
      " |          List of sample weights attached to the data X.\n",
      " |      \n",
      " |          .. versionadded:: 0.20\n",
      " |      \n",
      " |      Returns\n",
      " |      -------\n",
      " |      self : object\n",
      " |          Returns the instance itself.\n",
      " |  \n",
      " |  sample(self, n_samples=1, random_state=None)\n",
      " |      Generate random samples from the model.\n",
      " |      \n",
      " |      Currently, this is implemented only for gaussian and tophat kernels.\n",
      " |      \n",
      " |      Parameters\n",
      " |      ----------\n",
      " |      n_samples : int, default=1\n",
      " |          Number of samples to generate.\n",
      " |      \n",
      " |      random_state : int, RandomState instance or None, default=None\n",
      " |          Determines random number generation used to generate\n",
      " |          random samples. Pass an int for reproducible results\n",
      " |          across multiple function calls.\n",
      " |          See :term:`Glossary <random_state>`.\n",
      " |      \n",
      " |      Returns\n",
      " |      -------\n",
      " |      X : array-like of shape (n_samples, n_features)\n",
      " |          List of samples.\n",
      " |  \n",
      " |  score(self, X, y=None)\n",
      " |      Compute the total log-likelihood under the model.\n",
      " |      \n",
      " |      Parameters\n",
      " |      ----------\n",
      " |      X : array-like of shape (n_samples, n_features)\n",
      " |          List of n_features-dimensional data points.  Each row\n",
      " |          corresponds to a single data point.\n",
      " |      \n",
      " |      y : None\n",
      " |          Ignored. This parameter exists only for compatibility with\n",
      " |          :class:`~sklearn.pipeline.Pipeline`.\n",
      " |      \n",
      " |      Returns\n",
      " |      -------\n",
      " |      logprob : float\n",
      " |          Total log-likelihood of the data in X. This is normalized to be a\n",
      " |          probability density, so the value will be low for high-dimensional\n",
      " |          data.\n",
      " |  \n",
      " |  score_samples(self, X)\n",
      " |      Compute the log-likelihood of each sample under the model.\n",
      " |      \n",
      " |      Parameters\n",
      " |      ----------\n",
      " |      X : array-like of shape (n_samples, n_features)\n",
      " |          An array of points to query.  Last dimension should match dimension\n",
      " |          of training data (n_features).\n",
      " |      \n",
      " |      Returns\n",
      " |      -------\n",
      " |      density : ndarray of shape (n_samples,)\n",
      " |          Log-likelihood of each sample in `X`. These are normalized to be\n",
      " |          probability densities, so values will be low for high-dimensional\n",
      " |          data.\n",
      " |  \n",
      " |  ----------------------------------------------------------------------\n",
      " |  Methods inherited from sklearn.base.BaseEstimator:\n",
      " |  \n",
      " |  __getstate__(self)\n",
      " |  \n",
      " |  __repr__(self, N_CHAR_MAX=700)\n",
      " |      Return repr(self).\n",
      " |  \n",
      " |  __setstate__(self, state)\n",
      " |  \n",
      " |  get_params(self, deep=True)\n",
      " |      Get parameters for this estimator.\n",
      " |      \n",
      " |      Parameters\n",
      " |      ----------\n",
      " |      deep : bool, default=True\n",
      " |          If True, will return the parameters for this estimator and\n",
      " |          contained subobjects that are estimators.\n",
      " |      \n",
      " |      Returns\n",
      " |      -------\n",
      " |      params : dict\n",
      " |          Parameter names mapped to their values.\n",
      " |  \n",
      " |  set_params(self, **params)\n",
      " |      Set the parameters of this estimator.\n",
      " |      \n",
      " |      The method works on simple estimators as well as on nested objects\n",
      " |      (such as :class:`~sklearn.pipeline.Pipeline`). The latter have\n",
      " |      parameters of the form ``<component>__<parameter>`` so that it's\n",
      " |      possible to update each component of a nested object.\n",
      " |      \n",
      " |      Parameters\n",
      " |      ----------\n",
      " |      **params : dict\n",
      " |          Estimator parameters.\n",
      " |      \n",
      " |      Returns\n",
      " |      -------\n",
      " |      self : estimator instance\n",
      " |          Estimator instance.\n",
      " |  \n",
      " |  ----------------------------------------------------------------------\n",
      " |  Data descriptors inherited from sklearn.base.BaseEstimator:\n",
      " |  \n",
      " |  __dict__\n",
      " |      dictionary for instance variables (if defined)\n",
      " |  \n",
      " |  __weakref__\n",
      " |      list of weak references to the object (if defined)\n",
      "\n"
     ]
    }
   ],
   "source": [
    "help(KernelDensity)"
   ],
   "metadata": {
    "collapsed": false,
    "pycharm": {
     "name": "#%%\n"
    }
   }
  },
  {
   "cell_type": "code",
   "execution_count": 66,
   "outputs": [],
   "source": [
    "def fit_kde(ts, vals, kernel, bw):\n",
    "    kde = KernelDensity(bandwidth=bw, kernel=kernel)\n",
    "    kde.fit(vals[:, None])\n",
    "    return np.exp(kde.score_samples(ts[:, None]))"
   ],
   "metadata": {
    "collapsed": false,
    "pycharm": {
     "name": "#%%\n"
    }
   }
  },
  {
   "cell_type": "code",
   "execution_count": 68,
   "outputs": [
    {
     "data": {
      "text/plain": "<Figure size 237.6x86.4 with 2 Axes>",
      "image/png": "[encoded data removed]"
     },
     "metadata": {},
     "output_type": "display_data"
    }
   ],
   "source": [
    "fig, axs = plt.subplots(ncols=2, figsize=(.55*LATEX_WIDTH, .2*LATEX_WIDTH))\n",
    "\n",
    "\n",
    "bins_mu = np.linspace(-5, 5, 55)\n",
    "sns.histplot(mu_true, ax=axs[0], label='Prior', color='royalblue', kde=False, stat='density', edgecolor=\"white\", bins=bins_mu)\n",
    "sns.histplot(mu_approx, ax=axs[0], label='Gibbs prior', color='crimson', kde=False, stat='density', edgecolor=\"white\", bins=bins_mu)\n",
    "axs[0].set_xlabel(r'Mean $\\mu$')\n",
    "axs[0].set_xlim((-5, 5))\n",
    "# axs[0].legend()\n",
    "\n",
    "# sns.histplot(sigma_sq_true, stat='density', ax=axs[1], label=r'Original prior', color='royalblue', kde=True, edgecolor=\"white\", line_kws={'linewidth':1})\n",
    "# sns.histplot(np.clip(sigma_sq_approx, a_min=0, a_max=10), stat='density', ax=axs[1], color='crimson',\n",
    "#              label=r'Gibbs prior', kde=True, edgecolor=\"white\", line_kws={'linewidth':1})\n",
    "\n",
    "\n",
    "bins_sigma_sq = np.linspace(0, 10, 55)\n",
    "sns.histplot(sigma_sq_true, stat='density', ax=axs[1], label=r'Original prior', color='royalblue', kde=False, edgecolor=\"white\", bins=bins_sigma_sq)\n",
    "sns.histplot(np.clip(sigma_sq_approx, a_min=0, a_max=10), stat='density', ax=axs[1], color='crimson',\n",
    "             label=r'Gibbs prior', kde=False, edgecolor=\"white\", bins=bins_sigma_sq)\n",
    "\n",
    "\n",
    "# Manually fit kernel density for sigma_sq, because Gaussian kernel is inappropriate for the hard boundary at 0\n",
    "# mu\n",
    "ts_mu = np.linspace(-5, 5, 500)\n",
    "bw_mu = .25\n",
    "\n",
    "prob_mu_true = fit_kde(ts_mu, mu_true, 'gaussian', bw_mu)\n",
    "prob_mu_approx = fit_kde(ts_mu, mu_approx, 'gaussian', bw_mu)\n",
    "\n",
    "axs[0].plot(ts_mu, prob_mu_true, color='royalblue', linewidth=1)\n",
    "axs[0].plot(ts_mu, prob_mu_approx, color='crimson', linewidth=1)\n",
    "\n",
    "# sigma_sq\n",
    "ts_sigma_sq = np.linspace(0, 10, 500)\n",
    "bw_sigma_sq = .1\n",
    "\n",
    "prob_sigma_true = fit_kde(ts_sigma_sq, sigma_sq_true, 'gaussian', bw_sigma_sq)\n",
    "prob_sigma_approx = fit_kde(ts_sigma_sq, sigma_sq_approx, 'gaussian', bw_sigma_sq)\n",
    "\n",
    "axs[1].plot(ts_sigma_sq, prob_sigma_true, color='royalblue', linewidth=1)\n",
    "axs[1].plot(ts_sigma_sq, prob_sigma_approx, color='crimson', linewidth=1)\n",
    "\n",
    "# axs[1].legend()\n",
    "axs[1].set_xlim([0, 9])\n",
    "\n",
    "axs[1].set_xlabel(r'Variance $\\sigma^2$')\n",
    "axs[1].set_ylabel('')\n",
    "# Ticks\n",
    "axs[0].set_yticks([0, 0.2, 0.4])\n",
    "axs[0].set_xticks([-5, 0, 5])\n",
    "axs[1].set_yticks([0, 1])\n",
    "axs[1].set_xticks([0, 5])\n",
    "\n",
    "plt.legend(framealpha=1, frameon=True)\n",
    "# plt.tight_layout()\n",
    "# tikzplotlib.save('../fig/prior_vs_laplace.tex')\n",
    "plt.savefig('../fig/prior_vs_laplace.pdf', bbox_inches='tight')\n",
    "plt.show()"
   ],
   "metadata": {
    "collapsed": false,
    "pycharm": {
     "name": "#%%\n"
    }
   }
  },
  {
   "cell_type": "markdown",
   "source": [
    "# Stochastic monotonicity"
   ],
   "metadata": {
    "collapsed": false,
    "pycharm": {
     "name": "#%% md\n"
    }
   }
  },
  {
   "cell_type": "code",
   "execution_count": 5,
   "outputs": [],
   "source": [
    "def position_in_sorted(t, sorted_vec):\n",
    "    \"\"\"Position of value t in the sorted vector sorted_list.\"\"\"\n",
    "    pos = 0\n",
    "    for i in range(len(sorted_vec)):\n",
    "        if t <= sorted_vec[i]:\n",
    "            break\n",
    "        else:\n",
    "            pos += 1\n",
    "    return pos\n",
    "\n",
    "def get_cdf_val(t, sorted_vec):\n",
    "    return position_in_sorted(t, sorted_vec) / len(sorted_vec)"
   ],
   "metadata": {
    "collapsed": false,
    "pycharm": {
     "name": "#%%\n"
    }
   }
  },
  {
   "cell_type": "code",
   "execution_count": 6,
   "outputs": [],
   "source": [
    "mu_true_sorted, sigma_sq_true_sorted = np.sort(thetas_prior[:, 0]), np.sort(thetas_prior[:, 1])\n",
    "mu_approx_sorted, sigma_sq_approx_sorted = np.sort(thetas_approx[:, 0]), np.sort(thetas_approx[:, 1])\n",
    "\n",
    "ts_mu = np.linspace(-5, 5, 500)\n",
    "ts_sigma_sq = np.linspace(0, 9, 500)\n",
    "\n",
    "mu_true_cdf = [get_cdf_val(t, mu_true_sorted) for t in ts_mu]\n",
    "mu_approx_cdf = [get_cdf_val(t, mu_approx_sorted) for t in ts_mu]\n",
    "sigma_sq_true_cdf = [get_cdf_val(t, sigma_sq_true_sorted) for t in ts_sigma_sq]\n",
    "sigma_sq_approx_cdf = [get_cdf_val(t, sigma_sq_approx_sorted) for t in ts_sigma_sq]"
   ],
   "metadata": {
    "collapsed": false,
    "pycharm": {
     "name": "#%%\n"
    }
   }
  },
  {
   "cell_type": "code",
   "execution_count": 7,
   "outputs": [
    {
     "name": "stdout",
     "output_type": "stream",
     "text": [
      "The cdfs for the variance coincide at t=0.02 with a value of F(t)=0.02\n"
     ]
    }
   ],
   "source": [
    "sigma_sq_maks = [sigma_sq_true_cdf[i] >= sigma_sq_approx_cdf[i] for i in range(len(ts_sigma_sq))]\n",
    "t_equal_cdf = np.round(ts_sigma_sq[sigma_sq_maks][1], 2)\n",
    "t_val_equal_cdf = np.round(np.array(sigma_sq_true_cdf)[sigma_sq_maks][1], 2)\n",
    "print(f'The cdfs for the variance coincide at t={np.round(t_equal_cdf, 2)} with a value of F(t)={np.round(t_val_equal_cdf, 2)}')"
   ],
   "metadata": {
    "collapsed": false,
    "pycharm": {
     "name": "#%%\n"
    }
   }
  },
  {
   "cell_type": "code",
   "execution_count": 42,
   "outputs": [
    {
     "data": {
      "text/plain": "<Figure size 432x216 with 2 Axes>",
      "image/png": "[encoded data removed]"
     },
     "metadata": {},
     "output_type": "display_data"
    }
   ],
   "source": [
    "fig, axs = plt.subplots(ncols=2, figsize=(LATEX_WIDTH, .5*LATEX_WIDTH))\n",
    "\n",
    "# Means cdf\n",
    "axs[0].plot(ts_mu, mu_true_cdf, label='Original prior', color='royalblue')\n",
    "axs[0].plot(ts_mu, mu_approx_cdf, label='Gibbs prior', color='crimson')\n",
    "\n",
    "axs[0].set_xlabel(r'Mean $\\mu$')\n",
    "axs[0].set_ylabel(r'Cumulative distribution function')\n",
    "\n",
    "# Variances cdf\n",
    "axs[1].plot(ts_sigma_sq, sigma_sq_true_cdf, label='Original prior', color='royalblue')\n",
    "axs[1].plot(ts_sigma_sq, sigma_sq_approx_cdf, label='Gibbs prior', color='crimson')\n",
    "\n",
    "axs[1].set_xlabel(r'Variance $\\sigma^2$')\n",
    "axs[1].set_ylabel('')\n",
    "\n",
    "axs[0].set_xlim((-5, 5))\n",
    "axs[1].set_xlim((0, 8))\n",
    "axs[0].set_ylim((0, 1.05))\n",
    "axs[1].set_ylim((0, 1.05))\n",
    "\n",
    "axs[0].set_yticks([0, .5, 1])\n",
    "axs[0].set_xticks([-5, 0, 5])\n",
    "axs[1].set_yticks([0, .5, 1])\n",
    "axs[1].set_xticks([0, 5])\n",
    "\n",
    "plt.legend(framealpha=1, frameon=True, loc='lower right')\n",
    "# plt.tight_layout()\n",
    "# tikzplotlib.save('../fig/prior_vs_laplace_cdf.tex')\n",
    "plt.savefig('../fig/prior_vs_laplace_cdf.pdf', bbox_inches='tight')\n",
    "plt.show()"
   ],
   "metadata": {
    "collapsed": false,
    "pycharm": {
     "name": "#%%\n"
    }
   }
  }
 ],
 "metadata": {
  "kernelspec": {
   "display_name": "Python 3",
   "language": "python",
   "name": "python3"
  },
  "language_info": {
   "codemirror_mode": {
    "name": "ipython",
    "version": 3
   },
   "file_extension": ".py",
   "mimetype": "text/x-python",
   "name": "python",
   "nbconvert_exporter": "python",
   "pygments_lexer": "ipython3",
   "version": "3.7.7"
  }
 },
 "nbformat": 4,
 "nbformat_minor": 4
}