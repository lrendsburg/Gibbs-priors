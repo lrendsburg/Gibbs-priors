{
 "cells": [
  {
   "cell_type": "code",
   "execution_count": 1,
   "metadata": {},
   "outputs": [],
   "source": [
    "import numpy as np\n",
    "import seaborn as sns\n",
    "import matplotlib.pyplot as plt\n",
    "\n",
    "import numpyro as npr\n",
    "import numpyro.distributions as dist\n",
    "from jax import random\n",
    "\n",
    "import seaborn as sns\n",
    "import matplotlib.pyplot as plt\n",
    "# Plots\n",
    "plt.style.use('seaborn-whitegrid')\n",
    "\n",
    "# PLOT PREAMBLE: LIKE LATEX\n",
    "LATEX_WIDTH = 6\n",
    "LATEX_HEIGHT = 3.24\n",
    "\n",
    "SCRIPT_SIZE = 7\n",
    "\n",
    "#Direct input\n",
    "plt.rcParams['text.latex.preamble']=r\"\\usepackage{lmodern}\"\n",
    "#Options\n",
    "params = {'text.usetex' : True,\n",
    "          'font.size' : SCRIPT_SIZE,\n",
    "          'axes.labelsize' : SCRIPT_SIZE,\n",
    "          'xtick.labelsize' : SCRIPT_SIZE,\n",
    "          'ytick.labelsize' : SCRIPT_SIZE,\n",
    "          'legend.fontsize' : SCRIPT_SIZE,\n",
    "          'figure.titlesize' : SCRIPT_SIZE,\n",
    "          'font.family' : 'serif',\n",
    "          'font.serif': ['Computer Modern Roman']\n",
    "          }\n",
    "plt.rcParams.update(params)"
   ]
  },
  {
   "cell_type": "code",
   "execution_count": 2,
   "outputs": [],
   "source": [
    "# Prior\n",
    "def sample_prior(n_samples):\n",
    "    rng_keys = random.split(random.PRNGKey(1), 2)\n",
    "    mu = npr.sample('mu', dist.Normal(0, 1), sample_shape=(n_samples, 1), rng_key=rng_keys[0])\n",
    "    sigma_sq = npr.sample('sigma_sq', dist.Gamma(1, 1), sample_shape=(n_samples, 1), rng_key=rng_keys[1])\n",
    "    theta = np.concatenate((mu, sigma_sq), axis=-1)\n",
    "    return theta"
   ],
   "metadata": {
    "collapsed": false,
    "pycharm": {
     "name": "#%%\n"
    }
   }
  },
  {
   "cell_type": "code",
   "execution_count": 3,
   "outputs": [],
   "source": [
    "# Load data\n",
    "thetas_prior = sample_prior(n_samples=10000)\n",
    "thetas_approx = np.load(f'../res/abc/laplace_approx.npy').squeeze()\n",
    "\n",
    "mu_true, sigma_sq_true = thetas_prior[:, 0], thetas_prior[:, 1]\n",
    "mu_approx, sigma_sq_approx = thetas_approx[:, 0], thetas_approx[:, 1]"
   ],
   "metadata": {
    "collapsed": false,
    "pycharm": {
     "name": "#%%\n"
    }
   }
  },
  {
   "cell_type": "code",
   "execution_count": 29,
   "outputs": [
    {
     "data": {
      "text/plain": "<Figure size 237.6x86.4 with 2 Axes>",
      "image/png": "[encoded data removed]"
     },
     "metadata": {},
     "output_type": "display_data"
    }
   ],
   "source": [
    "fig, axs = plt.subplots(ncols=2, figsize=(.55*LATEX_WIDTH, .2*LATEX_WIDTH))\n",
    "\n",
    "sns.histplot(mu_true, ax=axs[0], label='Prior', color='royalblue', kde=True, stat='density', edgecolor=\"white\")\n",
    "sns.histplot(mu_approx, ax=axs[0], label='Gibbs prior', color='crimson', kde=True, stat='density', edgecolor=\"white\")\n",
    "axs[0].set_xlabel(r'Mean $\\mu$')\n",
    "axs[0].set_xlim((-5, 5))\n",
    "# axs[0].legend()\n",
    "\n",
    "sns.histplot(sigma_sq_true, stat='density', ax=axs[1], label=r'Original prior', color='royalblue', kde=True, edgecolor=\"white\")\n",
    "sns.histplot(np.clip(sigma_sq_approx, a_min=0, a_max=10), stat='density', ax=axs[1], color='crimson',\n",
    "             label=r'Gibbs prior', kde=True, edgecolor=\"white\")\n",
    "# axs[1].legend()\n",
    "axs[1].set_xlim([0, 9])\n",
    "\n",
    "axs[1].set_xlabel(r'Variance $\\sigma^2$')\n",
    "axs[1].set_ylabel('')\n",
    "# Ticks\n",
    "axs[0].set_yticks([0, 0.2, 0.4])\n",
    "axs[0].set_xticks([-5, 0, 5])\n",
    "axs[1].set_yticks([0, 1])\n",
    "axs[1].set_xticks([0, 5])\n",
    "\n",
    "plt.legend(framealpha=1, frameon=True)\n",
    "# plt.tight_layout()\n",
    "# tikzplotlib.save('../fig/prior_vs_laplace.tex')\n",
    "plt.savefig('../fig/prior_vs_laplace.pdf', bbox_inches='tight')\n",
    "plt.show()"
   ],
   "metadata": {
    "collapsed": false,
    "pycharm": {
     "name": "#%%\n"
    }
   }
  },
  {
   "cell_type": "markdown",
   "source": [
    "# Stochastic monotonicity"
   ],
   "metadata": {
    "collapsed": false,
    "pycharm": {
     "name": "#%% md\n"
    }
   }
  },
  {
   "cell_type": "code",
   "execution_count": 5,
   "outputs": [],
   "source": [
    "def position_in_sorted(t, sorted_vec):\n",
    "    \"\"\"Position of value t in the sorted vector sorted_list.\"\"\"\n",
    "    pos = 0\n",
    "    for i in range(len(sorted_vec)):\n",
    "        if t <= sorted_vec[i]:\n",
    "            break\n",
    "        else:\n",
    "            pos += 1\n",
    "    return pos\n",
    "\n",
    "def get_cdf_val(t, sorted_vec):\n",
    "    return position_in_sorted(t, sorted_vec) / len(sorted_vec)"
   ],
   "metadata": {
    "collapsed": false,
    "pycharm": {
     "name": "#%%\n"
    }
   }
  },
  {
   "cell_type": "code",
   "execution_count": 6,
   "outputs": [],
   "source": [
    "mu_true_sorted, sigma_sq_true_sorted = np.sort(thetas_prior[:, 0]), np.sort(thetas_prior[:, 1])\n",
    "mu_approx_sorted, sigma_sq_approx_sorted = np.sort(thetas_approx[:, 0]), np.sort(thetas_approx[:, 1])\n",
    "\n",
    "ts_mu = np.linspace(-5, 5, 500)\n",
    "ts_sigma_sq = np.linspace(0, 9, 500)\n",
    "\n",
    "mu_true_cdf = [get_cdf_val(t, mu_true_sorted) for t in ts_mu]\n",
    "mu_approx_cdf = [get_cdf_val(t, mu_approx_sorted) for t in ts_mu]\n",
    "sigma_sq_true_cdf = [get_cdf_val(t, sigma_sq_true_sorted) for t in ts_sigma_sq]\n",
    "sigma_sq_approx_cdf = [get_cdf_val(t, sigma_sq_approx_sorted) for t in ts_sigma_sq]"
   ],
   "metadata": {
    "collapsed": false,
    "pycharm": {
     "name": "#%%\n"
    }
   }
  },
  {
   "cell_type": "code",
   "execution_count": 7,
   "outputs": [
    {
     "name": "stdout",
     "output_type": "stream",
     "text": [
      "The cdfs for the variance coincide at t=0.02 with a value of F(t)=0.02\n"
     ]
    }
   ],
   "source": [
    "sigma_sq_maks = [sigma_sq_true_cdf[i] >= sigma_sq_approx_cdf[i] for i in range(len(ts_sigma_sq))]\n",
    "t_equal_cdf = np.round(ts_sigma_sq[sigma_sq_maks][1], 2)\n",
    "t_val_equal_cdf = np.round(np.array(sigma_sq_true_cdf)[sigma_sq_maks][1], 2)\n",
    "print(f'The cdfs for the variance coincide at t={np.round(t_equal_cdf, 2)} with a value of F(t)={np.round(t_val_equal_cdf, 2)}')"
   ],
   "metadata": {
    "collapsed": false,
    "pycharm": {
     "name": "#%%\n"
    }
   }
  },
  {
   "cell_type": "code",
   "execution_count": 28,
   "outputs": [
    {
     "data": {
      "text/plain": "<Figure size 432x216 with 2 Axes>",
      "image/png": "[encoded data removed]"
     },
     "metadata": {},
     "output_type": "display_data"
    }
   ],
   "source": [
    "fig, axs = plt.subplots(ncols=2, figsize=(LATEX_WIDTH, .5*LATEX_WIDTH))\n",
    "\n",
    "# Means cdf\n",
    "axs[0].plot(ts_mu, mu_true_cdf, label='Original prior', color='royalblue')\n",
    "axs[0].plot(ts_mu, mu_approx_cdf, label='Gibbs prior', color='crimson')\n",
    "\n",
    "axs[0].set_xlabel(r'Mean $\\mu$')\n",
    "axs[0].set_ylabel(r'Cumulative distribution function')\n",
    "\n",
    "# Variances cdf\n",
    "axs[1].plot(ts_sigma_sq, sigma_sq_true_cdf, label='Original prior', color='royalblue')\n",
    "axs[1].plot(ts_sigma_sq, sigma_sq_approx_cdf, label='Gibbs prior', color='crimson')\n",
    "\n",
    "axs[1].set_xlabel(r'Variance $\\sigma^2$')\n",
    "axs[1].set_ylabel('')\n",
    "\n",
    "axs[0].set_xlim((-5, 5))\n",
    "axs[1].set_xlim((0, 8))\n",
    "axs[0].set_ylim((0, 1.05))\n",
    "axs[1].set_ylim((0, 1.05))\n",
    "\n",
    "axs[0].set_yticks([0, .5, 1])\n",
    "axs[0].set_xticks([-5, 0, 5])\n",
    "axs[1].set_yticks([0, .5, 1])\n",
    "axs[1].set_xticks([0, 5])\n",
    "\n",
    "plt.legend(framealpha=1, frameon=True, loc='lower right')\n",
    "# plt.tight_layout()\n",
    "# tikzplotlib.save('../fig/prior_vs_laplace_cdf.tex')\n",
    "plt.savefig('../fig/prior_vs_laplace_cdf.pdf', bbox_inches='tight')\n",
    "plt.show()"
   ],
   "metadata": {
    "collapsed": false,
    "pycharm": {
     "name": "#%%\n"
    }
   }
  }
 ],
 "metadata": {
  "kernelspec": {
   "display_name": "Python 3",
   "language": "python",
   "name": "python3"
  },
  "language_info": {
   "codemirror_mode": {
    "name": "ipython",
    "version": 3
   },
   "file_extension": ".py",
   "mimetype": "text/x-python",
   "name": "python",
   "nbconvert_exporter": "python",
   "pygments_lexer": "ipython3",
   "version": "3.7.7"
  }
 },
 "nbformat": 4,
 "nbformat_minor": 4
}