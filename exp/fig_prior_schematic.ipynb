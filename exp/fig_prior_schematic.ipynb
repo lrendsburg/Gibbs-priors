{
 "cells": [
  {
   "cell_type": "code",
   "execution_count": 1,
   "metadata": {
    "collapsed": true
   },
   "outputs": [],
   "source": [
    "import numpy as np\n",
    "from scipy.stats import norm, invgamma, multivariate_normal, gaussian_kde\n",
    "\n",
    "import matplotlib.pyplot as plt\n",
    "from matplotlib.colors import LinearSegmentedColormap\n",
    "from matplotlib.lines import Line2D\n",
    "import matplotlib.ticker as mticker\n",
    "\n",
    "import tikzplotlib\n",
    "\n",
    "\n",
    "# Plots\n",
    "linewidth = 3.25063\n",
    "SMALL_SIZE = 9\n",
    "NORMAL_SIZE = 10\n",
    "LARGE_SIZE = 14.4\n",
    "\n",
    "# plt.style.use('seaborn-whitegrid')\n",
    "plt.style.use('seaborn-white')\n",
    "plt.rcParams['font.size'] = NORMAL_SIZE\n",
    "plt.rcParams['axes.labelsize'] = NORMAL_SIZE\n",
    "plt.rcParams['axes.labelweight'] = 'bold'\n",
    "plt.rcParams['axes.titleweight'] = 'bold'\n",
    "plt.rcParams['xtick.labelsize'] = NORMAL_SIZE\n",
    "plt.rcParams['ytick.labelsize'] = NORMAL_SIZE\n",
    "plt.rcParams['legend.fontsize'] = NORMAL_SIZE\n",
    "plt.rcParams['figure.titlesize'] = LARGE_SIZE\n",
    "plt.rcParams['axes.axisbelow'] = True\n",
    "\n",
    "# Latex\n",
    "\n",
    "plt.rcParams['mathtext.fontset'] = 'stix'\n",
    "plt.rcParams['text.usetex'] = True\n",
    "plt.rcParams['font.family'] = 'STIXGeneral'"
   ]
  },
  {
   "cell_type": "code",
   "execution_count": 2,
   "outputs": [],
   "source": [
    "def make_min_transparent(cmap, frac=.2, base_alpha=1):\n",
    "    \"\"\"Takes a colormap and replaces the color for the smallest values with transparent white.\"\"\"\n",
    "    n_colors = 256\n",
    "    n_minvals = int(n_colors * frac)\n",
    "    color_array = cmap(range(n_colors))\n",
    "    color_array[:, -1] = base_alpha * np.ones(n_colors) # Set base transparency\n",
    "    color_array[:n_minvals, :] = np.zeros((n_minvals, 4)) # Set lowest values to transparent white\n",
    "    masked_cmap = LinearSegmentedColormap.from_list(name='rainbow_alpha',colors=color_array)\n",
    "    return masked_cmap\n",
    "\n",
    "\n",
    "def plot_priors(prior_fn, gibbs_fn, xlims=(0, 10), ylims=(-5, 5), n_levels=3, base_alpha=1, figsize=(2.7, 2.7), save_path=None):\n",
    "    \"\"\"Plots prior and gibbs marginal as heatmap plots.\"\"\"\n",
    "    # Make grid\n",
    "    x = np.linspace(*xlims, 50)\n",
    "    y = np.linspace(*ylims, 50)\n",
    "    X, Y = np.meshgrid(x, y)\n",
    "    prior_vals = np.zeros_like(X)\n",
    "    gibbs_vals = np.zeros_like(X)\n",
    "    for i in range(X.shape[0]):\n",
    "        for j in range(X.shape[1]):\n",
    "            theta = np.array([X[i, j], Y[i, j]])\n",
    "            prior_vals[i, j] = prior_fn(theta)\n",
    "            gibbs_vals[i, j] = gibbs_fn(theta)\n",
    "\n",
    "    # Make plot\n",
    "    fig, ax = plt.subplots(nrows=1, ncols=1, figsize=figsize)\n",
    "    # Plot target density\n",
    "    cmap_prior = make_min_transparent(plt.cm.get_cmap(\"Blues\"), base_alpha=base_alpha)\n",
    "    cmap_gibbs = make_min_transparent(plt.cm.get_cmap(\"Reds\"), base_alpha=base_alpha)\n",
    "    ax.contourf(X, Y, prior_vals, cmap=cmap_prior, levels=n_levels)\n",
    "    ax.contourf(X, Y, gibbs_vals, cmap=cmap_gibbs, levels=n_levels)\n",
    "\n",
    "    ax.set_xticklabels([0])\n",
    "    ax.set_yticklabels([0])\n",
    "    # ax.text(-.5, -.5, '0')\n",
    "    legend_elements = [Line2D([0], [0], color='blue', lw=2, label='Chosen prior'),\n",
    "                       Line2D([0], [0], color='red', lw=2, label='Used prior')]\n",
    "    ax.legend(handles=legend_elements)\n",
    "\n",
    "    if save_path is not None:\n",
    "        # tikzplotlib.save(save_path)\n",
    "        plt.savefig(save_path, bbox_inches='tight')\n",
    "    plt.show()\n",
    "    return\n",
    "\n",
    "def eval_grid(X, Y, fn):\n",
    "    \"\"\"Evaluate grid specified by xs x ys at function fn\"\"\"\n",
    "    vals = np.zeros_like(X)\n",
    "    for i in range(X.shape[0]):\n",
    "        for j in range(X.shape[1]):\n",
    "            theta = np.array([X[i, j], Y[i, j]])\n",
    "            vals[i, j] = fn(theta)\n",
    "    return vals"
   ],
   "metadata": {
    "collapsed": false,
    "pycharm": {
     "name": "#%%\n"
    }
   }
  },
  {
   "cell_type": "code",
   "execution_count": 3,
   "outputs": [],
   "source": [
    "class Sketch(object):\n",
    "    \"\"\"Class containing all information that are relevant for the prior sketch in the introduction.\"\"\"\n",
    "    def __init__(self, marginal_loc, marginal_scale, mean_fn, scale_fn, cov_like, shrinkage_factor=.85, n_samples=100, y_obs=None):\n",
    "        \"\"\"Collect necessary information for specifying prior distribution and likelihood.\"\"\"\n",
    "        self.marginal_loc = marginal_loc\n",
    "        self.marginal_scale = marginal_scale\n",
    "        self.mean_fn = mean_fn\n",
    "        self.scale_fn = scale_fn\n",
    "        self.cov_like = cov_like\n",
    "\n",
    "        # print('Sampling Gibbs prior')\n",
    "        self.samples_Gibbs_prior = self.generate_gibbs_sequence(T=n_samples, shrinkage_factor=shrinkage_factor, verbose=True)\n",
    "\n",
    "        if y_obs is None:\n",
    "            theta = self.sample_prior()\n",
    "            y_obs = self.sample_like(theta)\n",
    "        print(f'Sampling posterior at y={y_obs}')\n",
    "        self.samples_posterior = self.sample_posterior(y_obs, n_samples=n_samples)\n",
    "        print(f'Sampling approximation to posterior at y={y_obs}')\n",
    "        self.samples_approx = self.sample_posterior(y_obs, shrinkage_factor=shrinkage_factor, n_samples=n_samples)\n",
    "\n",
    "    def visualize_hyperparams(self):\n",
    "        \"\"\"Creates a plot that visualizes the chosen hyperparameters.\"\"\"\n",
    "        # Visualize marginal, means, and variances\n",
    "        fig, axs = plt.subplots(figsize=(12, 12))\n",
    "\n",
    "        ts = np.linspace(2, 8, 60)\n",
    "        marg_vals = [norm.pdf(t, loc=self.marginal_loc, scale=self.marginal_scale) for t in ts]\n",
    "        mean_vals = [self.mean_fn(t) for t in ts]\n",
    "        scale_vals = [self.scale_fn(t) for t in ts]\n",
    "\n",
    "        axs.plot(ts, marg_vals, label='marginal\\_fn')\n",
    "        axs.plot(ts, mean_vals, label='mean\\_fn')\n",
    "        axs.plot(ts, scale_vals, label='variance\\_fn')\n",
    "        plt.legend()\n",
    "        plt.show()\n",
    "        return\n",
    "\n",
    "    def prior_density(self, theta):\n",
    "        \"\"\"Evaluate prior density at a given point theta=(x_1,x_2).\"\"\"\n",
    "        x_1, x_2 = theta\n",
    "        p_x1 = norm.pdf(x_1, loc=self.marginal_loc, scale=self.marginal_scale)\n",
    "        p_x2 = norm.pdf(x_2, loc=self.mean_fn(x_1), scale=self.scale_fn(x_1))\n",
    "        return p_x1 * p_x2\n",
    "\n",
    "    def like_density(self, y, theta):\n",
    "        \"\"\"Evaluate likelihood density f(y|theta).\"\"\"\n",
    "        return multivariate_normal.pdf(y, mean=theta, cov=self.cov_like)\n",
    "\n",
    "    def sample_prior(self, n_samples=1):\n",
    "        \"\"\"Sample from prior distribution.\"\"\"\n",
    "        x_1 = norm.rvs(loc=self.marginal_loc, scale=self.marginal_scale, size=(n_samples, 1))\n",
    "        x_2 = norm.rvs(loc=self.mean_fn(x_1), scale=self.scale_fn(x_1), size=(n_samples, 1))\n",
    "        theta = np.concatenate([x_1, x_2], axis=-1)\n",
    "        return theta.squeeze()\n",
    "\n",
    "    def sample_like(self, theta, n_samples=1):\n",
    "        \"\"\"Sample from likelihood conditioned on theta.\"\"\"\n",
    "        return multivariate_normal.rvs(mean=theta, cov=self.cov_like)\n",
    "\n",
    "    def sample_posterior(self, y, envelope_scale=2, verbose=False, shrinkage_factor=1, n_samples=1):\n",
    "        \"\"\"Sample from the posterior to an observation y based on rejection sampling with the prior as candidate density.\"\"\"\n",
    "        # # Approximate normalization constant for posterior p(theta|y)=1/Z pi(theta)f(y|theta)\n",
    "        # Z = 0\n",
    "        # for x_1 in np.linspace(0, 10, n_steps):\n",
    "        #     for x_2 in np.linspace(0, 10, n_steps):\n",
    "        #         theta = np.array([x_1, x_2])\n",
    "        #         Z += self.like_density(y, theta)\n",
    "        # stepsize = 10 / n_steps\n",
    "        # Z /= stepsize ** 2\n",
    "\n",
    "        samples = np.zeros((n_samples, 2))\n",
    "        # Rejection sampling with prior as proposal density\n",
    "        for i in range(n_samples):\n",
    "            u = 1\n",
    "            threshold = 0\n",
    "            counter = 0\n",
    "            while u >= threshold:\n",
    "                theta = self.sample_prior().squeeze()\n",
    "                u = np.random.uniform()\n",
    "                threshold = 2 * np.pi / envelope_scale * self.like_density(y=y, theta=theta)\n",
    "                counter += 1\n",
    "            if verbose:\n",
    "                print(counter)\n",
    "            samples[i] = shrinkage_factor * theta\n",
    "        return samples.squeeze()\n",
    "\n",
    "    def generate_gibbs_sequence(self, T=100, shrinkage_factor=1, verbose=False):\n",
    "        \"\"\"Generates a gibbs sequence with initialization drawn from prior.\"\"\"\n",
    "        theta = self.sample_prior()\n",
    "        gibbs_sequence = np.zeros((T, 2))\n",
    "        for t in range(T):\n",
    "            y = self.sample_like(theta)\n",
    "            theta = self.sample_posterior(y, shrinkage_factor=shrinkage_factor)\n",
    "            gibbs_sequence[t, :] = theta\n",
    "            if verbose:\n",
    "                if t % 100 == 0:\n",
    "                    print(f'Step {t}')\n",
    "        return gibbs_sequence\n",
    "\n",
    "    def plot(self, xlims=(0, 10), ylims=(-5, 5), n_levels=3, base_alpha=1, figsize=(2.7, 2.7),\n",
    "             show_legend=True, save_path=None):\n",
    "        \"\"\"Plots prior and gibbs marginal as heatmap plots.\"\"\"\n",
    "        # Density functions\n",
    "        gibbs_fn = gaussian_kde(self.samples_Gibbs_prior.T)\n",
    "        prior_fn = self.prior_density\n",
    "        posterior_fn = gaussian_kde(self.samples_posterior.T)\n",
    "        approx_fn = gaussian_kde(self.samples_approx.T)\n",
    "\n",
    "        # Make grid and evaluate\n",
    "        x = np.linspace(*xlims, 50)\n",
    "        y = np.linspace(*ylims, 50)\n",
    "        X, Y = np.meshgrid(x, y)\n",
    "\n",
    "        prior_vals = eval_grid(X, Y, prior_fn)\n",
    "        gibbs_vals = eval_grid(X, Y, gibbs_fn)\n",
    "        posterior_vals = eval_grid(X, Y, posterior_fn)\n",
    "        approx_vals = eval_grid(X, Y, approx_fn)\n",
    "\n",
    "\n",
    "        # Make plot\n",
    "        fig, axs = plt.subplots(nrows=1, ncols=2, figsize=figsize)\n",
    "        ax_prior, ax_posterior = axs\n",
    "\n",
    "        # Priors\n",
    "        cmap_prior = make_min_transparent(plt.cm.get_cmap(\"Blues\"), base_alpha=base_alpha)\n",
    "        cmap_gibbs = make_min_transparent(plt.cm.get_cmap(\"Reds\"), base_alpha=base_alpha)\n",
    "        ax_prior.contourf(X, Y, prior_vals, cmap=cmap_prior, levels=n_levels)\n",
    "        ax_prior.contourf(X, Y, gibbs_vals, cmap=cmap_gibbs, levels=n_levels)\n",
    "\n",
    "        ax_prior.set_xticklabels([0])\n",
    "        ax_prior.set_yticklabels([0])\n",
    "        # ax.text(-.5, -.5, '0')\n",
    "        legend_elements = [Line2D([0], [0], color='blue', lw=2, label='Explicitly chosen prior'),\n",
    "                           Line2D([0], [0], color='red', lw=2, label='Implicitly used prior')]\n",
    "        if show_legend:\n",
    "            ax_prior.legend(handles=legend_elements)\n",
    "\n",
    "        # Posteriors\n",
    "        cmap_posterior = make_min_transparent(plt.cm.get_cmap(\"Blues\"), base_alpha=base_alpha)\n",
    "        cmap_approx = make_min_transparent(plt.cm.get_cmap(\"Reds\"), base_alpha=base_alpha)\n",
    "        ax_posterior.contourf(X, Y, posterior_vals, cmap=cmap_posterior, levels=n_levels)\n",
    "        ax_posterior.contourf(X, Y, approx_vals, cmap=cmap_approx, levels=n_levels)\n",
    "\n",
    "        ax_posterior.set_xticklabels([0])\n",
    "        ax_posterior.set_yticklabels([0])\n",
    "        # ax.text(-.5, -.5, '0')\n",
    "        legend_elements = [Line2D([0], [0], color='blue', lw=2, label='Posterior'),\n",
    "                           Line2D([0], [0], color='red', lw=2, label='Approximate posterior')]\n",
    "        if show_legend:\n",
    "            ax_posterior.legend(handles=legend_elements)\n",
    "\n",
    "        plt.tight_layout()\n",
    "        if save_path is not None:\n",
    "            # tikzplotlib.save(save_path)\n",
    "            plt.savefig(save_path, bbox_inches='tight')\n",
    "        plt.show()\n",
    "        return"
   ],
   "metadata": {
    "collapsed": false,
    "pycharm": {
     "name": "#%%\n"
    }
   }
  },
  {
   "cell_type": "code",
   "execution_count": 4,
   "outputs": [
    {
     "name": "stdout",
     "output_type": "stream",
     "text": [
      "Step 0\n",
      "Step 100\n",
      "Step 200\n",
      "Step 300\n",
      "Step 400\n",
      "Step 500\n",
      "Step 600\n",
      "Step 700\n",
      "Step 800\n",
      "Step 900\n",
      "Sampling posterior at y=[5.39945534 3.0246831 ]\n",
      "Sampling approximation to posterior at y=[5.39945534 3.0246831 ]\n"
     ]
    }
   ],
   "source": [
    "# Choose hyperparameters for the sketch and initialize model\n",
    "np.random.seed(0)\n",
    "marginal_loc, marginal_scale = 5, 2\n",
    "mean_fn = lambda x: -.8 * np.sin(1.3 * x + 4) - .4 * x + 5.5\n",
    "scale_fn = lambda x: 0.3 * np.sin(.4 * x) ** 2 + 1\n",
    "cov_like = np.eye(2)\n",
    "\n",
    "sketch = Sketch(marginal_loc=marginal_loc, marginal_scale=marginal_scale, mean_fn=mean_fn, scale_fn=scale_fn,\n",
    "                cov_like=cov_like,\n",
    "                shrinkage_factor=.85,\n",
    "                n_samples=1000,\n",
    "                y_obs=None)\n",
    "# sketch.visualize_hyperparams()"
   ],
   "metadata": {
    "collapsed": false,
    "pycharm": {
     "name": "#%%\n"
    }
   }
  },
  {
   "cell_type": "code",
   "execution_count": 5,
   "outputs": [],
   "source": [
    "# Density functions\n",
    "gibbs_fn = gaussian_kde(sketch.samples_Gibbs_prior.T)\n",
    "prior_fn = sketch.prior_density\n",
    "posterior_fn = gaussian_kde(sketch.samples_posterior.T)\n",
    "approx_fn = gaussian_kde(sketch.samples_approx.T)"
   ],
   "metadata": {
    "collapsed": false,
    "pycharm": {
     "name": "#%%\n"
    }
   }
  },
  {
   "cell_type": "code",
   "execution_count": 6,
   "outputs": [
    {
     "data": {
      "text/plain": "<Figure size 234.045x117.023 with 2 Axes>",
      "image/png": "[encoded data removed]"
     },
     "metadata": {},
     "output_type": "display_data"
    }
   ],
   "source": [
    "# Input\n",
    "xlims = (0, 9)\n",
    "ylims = (0, 7)\n",
    "n_levels = 5\n",
    "base_alpha = .8\n",
    "figsize = (linewidth, .5 * linewidth)\n",
    "show_legend = False\n",
    "# save_path = '../fig/intro_schematic_norm.pdf'\n",
    "save_path = '../fig/intro_schematic_norm.tex'\n",
    "\n",
    "# Make grid and evaluate\n",
    "x = np.linspace(*xlims, 50)\n",
    "y = np.linspace(*ylims, 50)\n",
    "X, Y = np.meshgrid(x, y)\n",
    "\n",
    "prior_vals = eval_grid(X, Y, prior_fn)\n",
    "gibbs_vals = eval_grid(X, Y, gibbs_fn)\n",
    "posterior_vals = eval_grid(X, Y, posterior_fn)\n",
    "approx_vals = eval_grid(X, Y, approx_fn)\n",
    "\n",
    "\n",
    "# Make plot\n",
    "fig, axs = plt.subplots(nrows=1, ncols=2, figsize=figsize)\n",
    "ax_posterior, ax_prior = axs\n",
    "\n",
    "# Priors\n",
    "cmap_prior = make_min_transparent(plt.cm.get_cmap(\"Blues\"), base_alpha=base_alpha)\n",
    "cmap_gibbs = make_min_transparent(plt.cm.get_cmap(\"Reds\"), base_alpha=base_alpha)\n",
    "ax_prior.contourf(X, Y, prior_vals, cmap=cmap_prior, levels=n_levels)\n",
    "ax_prior.contourf(X, Y, gibbs_vals, cmap=cmap_gibbs, levels=n_levels)\n",
    "\n",
    "for i, tick in enumerate(ax_prior.xaxis.get_major_ticks()):\n",
    "    if i != 0:\n",
    "        tick.label1.set_visible(False)\n",
    "for i, tick in enumerate(ax_prior.yaxis.get_major_ticks()):\n",
    "    if i != 0:\n",
    "        tick.label1.set_visible(False)\n",
    "\n",
    "if show_legend:\n",
    "    legend_elements = [Line2D([0], [0], color='blue', lw=2, label='Explicitly chosen prior'),\n",
    "                       Line2D([0], [0], color='red', lw=2, label='Implicitly used prior')]\n",
    "    ax_prior.legend(handles=legend_elements)\n",
    "\n",
    "# Text\n",
    "ax_prior.annotate(text='Explicitly\\n chosen prior', xy=(5.3, 4), xytext=(6, 5.3), ha='center')\n",
    "ax_prior.annotate(text='', xy=(5.3, 4), xytext=(6, 5.3), arrowprops={'arrowstyle':'->'})\n",
    "ax_prior.annotate(text='Implicitly\\n used prior', xy=(3, 3), xytext=(2.5, .3), ha='center')\n",
    "ax_prior.annotate(text='', xy=(3, 3), xytext=(2.7, 1.5), arrowprops={'arrowstyle':'->'})\n",
    "\n",
    "\n",
    "## Posteriors\n",
    "cmap_posterior = make_min_transparent(plt.cm.get_cmap(\"Blues\"), base_alpha=base_alpha)\n",
    "cmap_approx = make_min_transparent(plt.cm.get_cmap(\"Reds\"), base_alpha=base_alpha)\n",
    "ax_posterior.contourf(X, Y, posterior_vals, cmap=cmap_posterior, levels=n_levels)\n",
    "ax_posterior.contourf(X, Y, approx_vals, cmap=cmap_approx, levels=n_levels)\n",
    "\n",
    "for i, tick in enumerate(ax_posterior.xaxis.get_major_ticks()):\n",
    "    if i != 0:\n",
    "        tick.label1.set_visible(False)\n",
    "for i, tick in enumerate(ax_posterior.yaxis.get_major_ticks()):\n",
    "    if i != 0:\n",
    "        tick.label1.set_visible(False)\n",
    "# ax.text(-.5, -.5, '0')\n",
    "if show_legend:\n",
    "    legend_elements = [Line2D([0], [0], color='blue', lw=2, label='Posterior'),\n",
    "                       Line2D([0], [0], color='red', lw=2, label='Approximate posterior')]\n",
    "    ax_posterior.legend(handles=legend_elements)\n",
    "\n",
    "# Text\n",
    "ax_posterior.annotate(text='Posterior', xy=(5.7, 4), xytext=(6.8,6), ha='center')\n",
    "ax_posterior.annotate(text='', xy=(5.7, 4), xytext=(6.8,6), arrowprops={'arrowstyle':'->'})\n",
    "ax_posterior.annotate(text='Approximate\\n posterior', xy=(5, 3), xytext=(3, .3), ha='center')\n",
    "ax_posterior.annotate(text='', xy=(4.7, 3), xytext=(2.8, 1.8), arrowprops={'arrowstyle':'->'})\n",
    "\n",
    "plt.tight_layout()\n",
    "if save_path is not None:\n",
    "    tikzplotlib.save(save_path)\n",
    "    # plt.savefig(save_path, bbox_inches='tight')\n",
    "plt.show()"
   ],
   "metadata": {
    "collapsed": false,
    "pycharm": {
     "name": "#%%\n"
    }
   }
  },
  {
   "cell_type": "code",
   "execution_count": 19,
   "outputs": [
    {
     "data": {
      "text/plain": "[0, '', '']"
     },
     "execution_count": 19,
     "metadata": {},
     "output_type": "execute_result"
    }
   ],
   "source": [
    "ticks = ax_posterior.get_xticks().tolist()\n",
    "[0 if x == 0 else '' for x in ticks]"
   ],
   "metadata": {
    "collapsed": false,
    "pycharm": {
     "name": "#%%\n"
    }
   }
  },
  {
   "cell_type": "code",
   "execution_count": null,
   "outputs": [],
   "source": [
    "save_path = '../fig/intro_schematic_norm.pdf'\n",
    "sketch.plot(xlims=(0, 9), ylims=(0, 7),\n",
    "            n_levels=5, base_alpha=.8, figsize=(4, 2),\n",
    "            show_legend=False,\n",
    "            save_path=save_path)"
   ],
   "metadata": {
    "collapsed": false,
    "pycharm": {
     "name": "#%%\n"
    }
   }
  },
  {
   "cell_type": "markdown",
   "source": [
    "# Old\n",
    "\n"
   ],
   "metadata": {
    "collapsed": false,
    "pycharm": {
     "name": "#%% md\n"
    }
   }
  },
  {
   "cell_type": "code",
   "execution_count": 26,
   "outputs": [
    {
     "ename": "ValueError",
     "evalue": "Array 'mean' must be a vector of length 2.",
     "output_type": "error",
     "traceback": [
      "\u001B[0;31m---------------------------------------------------------------------------\u001B[0m",
      "\u001B[0;31mValueError\u001B[0m                                Traceback (most recent call last)",
      "\u001B[0;32m<ipython-input-26-a89fc10e0288>\u001B[0m in \u001B[0;36m<module>\u001B[0;34m\u001B[0m\n\u001B[1;32m      1\u001B[0m \u001B[0;31m# Generate Gibbs sequence\u001B[0m\u001B[0;34m\u001B[0m\u001B[0;34m\u001B[0m\u001B[0;34m\u001B[0m\u001B[0m\n\u001B[0;32m----> 2\u001B[0;31m \u001B[0mgibbs_sequence\u001B[0m \u001B[0;34m=\u001B[0m \u001B[0msketch\u001B[0m\u001B[0;34m.\u001B[0m\u001B[0mgenerate_gibbs_sequence\u001B[0m\u001B[0;34m(\u001B[0m\u001B[0mT\u001B[0m\u001B[0;34m=\u001B[0m\u001B[0;36m1000\u001B[0m\u001B[0;34m,\u001B[0m \u001B[0mshrinkage_factor\u001B[0m\u001B[0;34m=\u001B[0m\u001B[0;36m.85\u001B[0m\u001B[0;34m,\u001B[0m \u001B[0mverbose\u001B[0m\u001B[0;34m=\u001B[0m\u001B[0;32mTrue\u001B[0m\u001B[0;34m)\u001B[0m\u001B[0;34m\u001B[0m\u001B[0;34m\u001B[0m\u001B[0m\n\u001B[0m\u001B[1;32m      3\u001B[0m \u001B[0;34m\u001B[0m\u001B[0m\n",
      "\u001B[0;32m<ipython-input-21-276bca22ef33>\u001B[0m in \u001B[0;36mgenerate_gibbs_sequence\u001B[0;34m(self, T, shrinkage_factor, verbose)\u001B[0m\n\u001B[1;32m     86\u001B[0m         \u001B[0mgibbs_sequence\u001B[0m \u001B[0;34m=\u001B[0m \u001B[0mnp\u001B[0m\u001B[0;34m.\u001B[0m\u001B[0mzeros\u001B[0m\u001B[0;34m(\u001B[0m\u001B[0;34m(\u001B[0m\u001B[0mT\u001B[0m\u001B[0;34m,\u001B[0m \u001B[0;36m2\u001B[0m\u001B[0;34m)\u001B[0m\u001B[0;34m)\u001B[0m\u001B[0;34m\u001B[0m\u001B[0;34m\u001B[0m\u001B[0m\n\u001B[1;32m     87\u001B[0m         \u001B[0;32mfor\u001B[0m \u001B[0mt\u001B[0m \u001B[0;32min\u001B[0m \u001B[0mrange\u001B[0m\u001B[0;34m(\u001B[0m\u001B[0mT\u001B[0m\u001B[0;34m)\u001B[0m\u001B[0;34m:\u001B[0m\u001B[0;34m\u001B[0m\u001B[0;34m\u001B[0m\u001B[0m\n\u001B[0;32m---> 88\u001B[0;31m             \u001B[0my\u001B[0m \u001B[0;34m=\u001B[0m \u001B[0mself\u001B[0m\u001B[0;34m.\u001B[0m\u001B[0msample_like\u001B[0m\u001B[0;34m(\u001B[0m\u001B[0mtheta\u001B[0m\u001B[0;34m)\u001B[0m\u001B[0;34m\u001B[0m\u001B[0;34m\u001B[0m\u001B[0m\n\u001B[0m\u001B[1;32m     89\u001B[0m             \u001B[0mtheta\u001B[0m \u001B[0;34m=\u001B[0m \u001B[0mself\u001B[0m\u001B[0;34m.\u001B[0m\u001B[0msample_posterior\u001B[0m\u001B[0;34m(\u001B[0m\u001B[0my\u001B[0m\u001B[0;34m,\u001B[0m \u001B[0mshrinkage_factor\u001B[0m\u001B[0;34m=\u001B[0m\u001B[0mshrinkage_factor\u001B[0m\u001B[0;34m)\u001B[0m\u001B[0;34m\u001B[0m\u001B[0;34m\u001B[0m\u001B[0m\n\u001B[1;32m     90\u001B[0m             \u001B[0mgibbs_sequence\u001B[0m\u001B[0;34m[\u001B[0m\u001B[0mt\u001B[0m\u001B[0;34m,\u001B[0m \u001B[0;34m:\u001B[0m\u001B[0;34m]\u001B[0m \u001B[0;34m=\u001B[0m \u001B[0mtheta\u001B[0m\u001B[0;34m\u001B[0m\u001B[0;34m\u001B[0m\u001B[0m\n",
      "\u001B[0;32m<ipython-input-21-276bca22ef33>\u001B[0m in \u001B[0;36msample_like\u001B[0;34m(self, theta, n_samples)\u001B[0m\n\u001B[1;32m     55\u001B[0m     \u001B[0;32mdef\u001B[0m \u001B[0msample_like\u001B[0m\u001B[0;34m(\u001B[0m\u001B[0mself\u001B[0m\u001B[0;34m,\u001B[0m \u001B[0mtheta\u001B[0m\u001B[0;34m,\u001B[0m \u001B[0mn_samples\u001B[0m\u001B[0;34m=\u001B[0m\u001B[0;36m1\u001B[0m\u001B[0;34m)\u001B[0m\u001B[0;34m:\u001B[0m\u001B[0;34m\u001B[0m\u001B[0;34m\u001B[0m\u001B[0m\n\u001B[1;32m     56\u001B[0m         \u001B[0;34m\"\"\"Sample from likelihood conditioned on theta.\"\"\"\u001B[0m\u001B[0;34m\u001B[0m\u001B[0;34m\u001B[0m\u001B[0m\n\u001B[0;32m---> 57\u001B[0;31m         \u001B[0;32mreturn\u001B[0m \u001B[0mmultivariate_normal\u001B[0m\u001B[0;34m.\u001B[0m\u001B[0mrvs\u001B[0m\u001B[0;34m(\u001B[0m\u001B[0mmean\u001B[0m\u001B[0;34m=\u001B[0m\u001B[0mtheta\u001B[0m\u001B[0;34m,\u001B[0m \u001B[0mcov\u001B[0m\u001B[0;34m=\u001B[0m\u001B[0mself\u001B[0m\u001B[0;34m.\u001B[0m\u001B[0mcov_like\u001B[0m\u001B[0;34m)\u001B[0m\u001B[0;34m\u001B[0m\u001B[0;34m\u001B[0m\u001B[0m\n\u001B[0m\u001B[1;32m     58\u001B[0m \u001B[0;34m\u001B[0m\u001B[0m\n\u001B[1;32m     59\u001B[0m     \u001B[0;32mdef\u001B[0m \u001B[0msample_posterior\u001B[0m\u001B[0;34m(\u001B[0m\u001B[0mself\u001B[0m\u001B[0;34m,\u001B[0m \u001B[0my\u001B[0m\u001B[0;34m,\u001B[0m \u001B[0menvelope_scale\u001B[0m\u001B[0;34m=\u001B[0m\u001B[0;36m2\u001B[0m\u001B[0;34m,\u001B[0m \u001B[0mverbose\u001B[0m\u001B[0;34m=\u001B[0m\u001B[0;32mFalse\u001B[0m\u001B[0;34m,\u001B[0m \u001B[0mshrinkage_factor\u001B[0m\u001B[0;34m=\u001B[0m\u001B[0;36m1\u001B[0m\u001B[0;34m)\u001B[0m\u001B[0;34m:\u001B[0m\u001B[0;34m\u001B[0m\u001B[0;34m\u001B[0m\u001B[0m\n",
      "\u001B[0;32m~/anaconda3/envs/ABC/lib/python3.7/site-packages/scipy/stats/_multivariate.py\u001B[0m in \u001B[0;36mrvs\u001B[0;34m(self, mean, cov, size, random_state)\u001B[0m\n\u001B[1;32m    661\u001B[0m \u001B[0;34m\u001B[0m\u001B[0m\n\u001B[1;32m    662\u001B[0m         \"\"\"\n\u001B[0;32m--> 663\u001B[0;31m         \u001B[0mdim\u001B[0m\u001B[0;34m,\u001B[0m \u001B[0mmean\u001B[0m\u001B[0;34m,\u001B[0m \u001B[0mcov\u001B[0m \u001B[0;34m=\u001B[0m \u001B[0mself\u001B[0m\u001B[0;34m.\u001B[0m\u001B[0m_process_parameters\u001B[0m\u001B[0;34m(\u001B[0m\u001B[0;32mNone\u001B[0m\u001B[0;34m,\u001B[0m \u001B[0mmean\u001B[0m\u001B[0;34m,\u001B[0m \u001B[0mcov\u001B[0m\u001B[0;34m)\u001B[0m\u001B[0;34m\u001B[0m\u001B[0;34m\u001B[0m\u001B[0m\n\u001B[0m\u001B[1;32m    664\u001B[0m \u001B[0;34m\u001B[0m\u001B[0m\n\u001B[1;32m    665\u001B[0m         \u001B[0mrandom_state\u001B[0m \u001B[0;34m=\u001B[0m \u001B[0mself\u001B[0m\u001B[0;34m.\u001B[0m\u001B[0m_get_random_state\u001B[0m\u001B[0;34m(\u001B[0m\u001B[0mrandom_state\u001B[0m\u001B[0;34m)\u001B[0m\u001B[0;34m\u001B[0m\u001B[0;34m\u001B[0m\u001B[0m\n",
      "\u001B[0;32m~/anaconda3/envs/ABC/lib/python3.7/site-packages/scipy/stats/_multivariate.py\u001B[0m in \u001B[0;36m_process_parameters\u001B[0;34m(self, dim, mean, cov)\u001B[0m\n\u001B[1;32m    411\u001B[0m         \u001B[0;32mif\u001B[0m \u001B[0mmean\u001B[0m\u001B[0;34m.\u001B[0m\u001B[0mndim\u001B[0m \u001B[0;34m!=\u001B[0m \u001B[0;36m1\u001B[0m \u001B[0;32mor\u001B[0m \u001B[0mmean\u001B[0m\u001B[0;34m.\u001B[0m\u001B[0mshape\u001B[0m\u001B[0;34m[\u001B[0m\u001B[0;36m0\u001B[0m\u001B[0;34m]\u001B[0m \u001B[0;34m!=\u001B[0m \u001B[0mdim\u001B[0m\u001B[0;34m:\u001B[0m\u001B[0;34m\u001B[0m\u001B[0;34m\u001B[0m\u001B[0m\n\u001B[1;32m    412\u001B[0m             raise ValueError(\"Array 'mean' must be a vector of length %d.\" %\n\u001B[0;32m--> 413\u001B[0;31m                              dim)\n\u001B[0m\u001B[1;32m    414\u001B[0m         \u001B[0;32mif\u001B[0m \u001B[0mcov\u001B[0m\u001B[0;34m.\u001B[0m\u001B[0mndim\u001B[0m \u001B[0;34m==\u001B[0m \u001B[0;36m0\u001B[0m\u001B[0;34m:\u001B[0m\u001B[0;34m\u001B[0m\u001B[0;34m\u001B[0m\u001B[0m\n\u001B[1;32m    415\u001B[0m             \u001B[0mcov\u001B[0m \u001B[0;34m=\u001B[0m \u001B[0mcov\u001B[0m \u001B[0;34m*\u001B[0m \u001B[0mnp\u001B[0m\u001B[0;34m.\u001B[0m\u001B[0meye\u001B[0m\u001B[0;34m(\u001B[0m\u001B[0mdim\u001B[0m\u001B[0;34m)\u001B[0m\u001B[0;34m\u001B[0m\u001B[0;34m\u001B[0m\u001B[0m\n",
      "\u001B[0;31mValueError\u001B[0m: Array 'mean' must be a vector of length 2."
     ]
    }
   ],
   "source": [
    "# Generate Gibbs sequence\n",
    "gibbs_sequence = sketch.generate_gibbs_sequence(T=1000, shrinkage_factor=.85, verbose=True)"
   ],
   "metadata": {
    "collapsed": false,
    "pycharm": {
     "name": "#%%\n"
    }
   }
  },
  {
   "cell_type": "code",
   "execution_count": 6,
   "outputs": [
    {
     "name": "stderr",
     "output_type": "stream",
     "text": [
      "/Users/lrendsburg/anaconda3/envs/ABC/lib/python3.7/site-packages/ipykernel_launcher.py:34: UserWarning: FixedFormatter should only be used together with FixedLocator\n",
      "/Users/lrendsburg/anaconda3/envs/ABC/lib/python3.7/site-packages/ipykernel_launcher.py:35: UserWarning: FixedFormatter should only be used together with FixedLocator\n"
     ]
    },
    {
     "data": {
      "text/plain": "<Figure size 194.4x194.4 with 1 Axes>",
      "image/png": "[encoded data removed]"
     },
     "metadata": {},
     "output_type": "display_data"
    }
   ],
   "source": [
    "# save_path = None\n",
    "save_path = '../fig/prior_schematic.pdf'\n",
    "gibbs_fn = gaussian_kde(gibbs_sequence.T)\n",
    "plot_priors(prior_fn=sketch.prior_density, gibbs_fn=gibbs_fn, xlims=(0, 9), ylims=(0, 7),\n",
    "            n_levels=5, base_alpha=.8, save_path=save_path)"
   ],
   "metadata": {
    "collapsed": false,
    "pycharm": {
     "name": "#%%\n"
    }
   }
  },
  {
   "cell_type": "code",
   "execution_count": 7,
   "outputs": [
    {
     "name": "stderr",
     "output_type": "stream",
     "text": [
      "/Users/lrendsburg/anaconda3/envs/ABC/lib/python3.7/site-packages/ipykernel_launcher.py:34: UserWarning: FixedFormatter should only be used together with FixedLocator\n",
      "/Users/lrendsburg/anaconda3/envs/ABC/lib/python3.7/site-packages/ipykernel_launcher.py:35: UserWarning: FixedFormatter should only be used together with FixedLocator\n"
     ]
    },
    {
     "data": {
      "text/plain": "<Figure size 144x144 with 1 Axes>",
      "image/png": "[encoded data removed]"
     },
     "metadata": {},
     "output_type": "display_data"
    }
   ],
   "source": [
    "# save_path = None\n",
    "save_path = '../fig/prior_schematic_small.pdf'\n",
    "gibbs_fn = gaussian_kde(gibbs_sequence.T)\n",
    "plot_priors(prior_fn=sketch.prior_density, gibbs_fn=gibbs_fn, xlims=(0, 9), ylims=(0, 7),\n",
    "            n_levels=5, base_alpha=.8, figsize=(2, 2), save_path=save_path)"
   ],
   "metadata": {
    "collapsed": false,
    "pycharm": {
     "name": "#%%\n"
    }
   }
  }
 ],
 "metadata": {
  "kernelspec": {
   "display_name": "Python 3",
   "language": "python",
   "name": "python3"
  },
  "language_info": {
   "codemirror_mode": {
    "name": "ipython",
    "version": 2
   },
   "file_extension": ".py",
   "mimetype": "text/x-python",
   "name": "python",
   "nbconvert_exporter": "python",
   "pygments_lexer": "ipython2",
   "version": "2.7.6"
  }
 },
 "nbformat": 4,
 "nbformat_minor": 0
}