{
 "cells": [
  {
   "cell_type": "code",
   "execution_count": 1,
   "outputs": [],
   "source": [
    "import matplotlib.pyplot as plt\n",
    "import seaborn as sns\n",
    "\n",
    "from src.toy_utils import *\n",
    "\n",
    "\n",
    "plt.style.use('seaborn-whitegrid')\n",
    "# PLOT PREAMBLE: LIKE LATEX\n",
    "LATEX_WIDTH = 2.8\n",
    "LATEX_HEIGHT = 3.24\n",
    "\n",
    "SCRIPT_SIZE = 7\n",
    "\n",
    "#Direct input\n",
    "plt.rcParams['text.latex.preamble']=r\"\\usepackage{lmodern}\"\n",
    "#Options\n",
    "params = {'text.usetex' : True,\n",
    "          'font.size' : SCRIPT_SIZE,\n",
    "          'axes.labelsize' : SCRIPT_SIZE,\n",
    "          'xtick.labelsize' : SCRIPT_SIZE,\n",
    "          'ytick.labelsize' : SCRIPT_SIZE,\n",
    "          'legend.fontsize' : SCRIPT_SIZE,\n",
    "          'figure.titlesize' : SCRIPT_SIZE,\n",
    "          'font.family' : 'serif',\n",
    "          'font.serif': ['Computer Modern Roman']\n",
    "          }\n",
    "plt.rcParams.update(params)"
   ],
   "metadata": {
    "collapsed": false,
    "pycharm": {
     "name": "#%%\n"
    }
   }
  },
  {
   "cell_type": "code",
   "execution_count": 2,
   "outputs": [],
   "source": [
    "def get_densities(mode, method):\n",
    "    \"\"\"Computes all densities of interest for a given setting.\n",
    "    mode = {'skewed_prior', 'skewed_like'}\n",
    "    method = {'inner', 'outer'}\n",
    "    \"\"\"\n",
    "    # Centered prior\n",
    "    n, d = 1, 2\n",
    "    mu_0 = np.zeros(d)\n",
    "\n",
    "    # Covariance matrices\n",
    "    Sigma_0, Sigma = load_covariances(mode)\n",
    "\n",
    "    # Get covariance of gibbs marginal\n",
    "    Sigma_G = get_gibbs_prior_covariance(Sigma_0, Sigma, n, method=method)\n",
    "\n",
    "    # Load observations\n",
    "    y_obs = load_dict('../data/y_obs.p')\n",
    "\n",
    "    # Initialize models\n",
    "    model = GaussianMean(mu_0=mu_0, Sigma_0=Sigma_0, Sigma=Sigma, n_observ=n, test_model=False)\n",
    "    model_gibbs = GaussianMean(mu_0=mu_0, Sigma_0=Sigma_G, Sigma=Sigma, n_observ=n, test_model=False)\n",
    "\n",
    "    # Get densities of interest\n",
    "    densities = {}\n",
    "    densities['prior'] = model.get_prior_density()\n",
    "    densities['posterior'] = model.get_posterior_density(y=y_obs[0])\n",
    "    densities['approx'] = model.get_exact_ADVI_mf_density(y=y_obs[0], method=method)\n",
    "    densities['gibbs_prior'] = model_gibbs.get_prior_density()\n",
    "    densities['gibbs_posterior'] = model_gibbs.get_posterior_density(y=y_obs[0])\n",
    "    densities['get_eap'] = lambda y: model.get_exact_approximation_prior(y=y, method=method)\n",
    "    return densities\n",
    "\n",
    "def sns_plot_density(ax, X, Y, Z, color, alpha, linestyles, linewidths, label=None):\n",
    "    p_min = get_levels(Z, 1)[0]\n",
    "    sns.kdeplot(x=X[np.where(Z >= p_min)], y=Y[np.where(Z >= p_min)], color=color, alpha=alpha, fill=True, levels=2, ax=ax)\n",
    "    sns.kdeplot(x=X[np.where(Z >= p_min)], y=Y[np.where(Z >= p_min)], color=color, linestyles=linestyles,\n",
    "                linewidths=linewidths,\n",
    "                levels=2,\n",
    "                label=label,\n",
    "                ax=ax)\n",
    "    return"
   ],
   "metadata": {
    "collapsed": false,
    "pycharm": {
     "name": "#%%\n"
    }
   }
  },
  {
   "cell_type": "markdown",
   "source": [
    "# Prior plots\n",
    "Note that $\\pi_y$ is improper for skewed_like. It is therefore only plotted for skewed_prior"
   ],
   "metadata": {
    "collapsed": false
   }
  },
  {
   "cell_type": "code",
   "execution_count": 3,
   "outputs": [
    {
     "data": {
      "text/plain": "<Figure size 191.52x171.36 with 4 Axes>",
      "image/png": "[encoded data removed]"
     },
     "metadata": {},
     "output_type": "display_data"
    }
   ],
   "source": [
    "# Hyperparameters\n",
    "xlims = [-2, 2]\n",
    "ylims = [-1.7, 1.7]\n",
    "n_steps = 200\n",
    "save_path = '../fig/example_priors.pdf'\n",
    "colors = {'prior' : 'royalblue', 'gibbs_prior' : 'crimson', 'pi_y' : 'black'}\n",
    "alphas = {'prior' : .6, 'gibbs_prior' : .6, 'pi_y' : .3}\n",
    "linestyles = {'prior' : '-', 'gibbs_prior' : '--', 'pi_y' : '-.'}\n",
    "linewidths = {'prior' : 1, 'gibbs_prior' : 1, 'pi_y' : .5}\n",
    "labels = {'prior' : r'Original prior $\\pi$', 'gibbs_prior' : r'Gibbs prior $\\pi_G$',\n",
    "          'pi_y' : r'Pointwise priors $\\pi_y$'}\n",
    "modes = ['skewed_prior', 'skewed_like']\n",
    "methods = ['inner', 'outer']\n",
    "\n",
    "# Hand-crafted points for pi_y\n",
    "y_obs = load_dict('../data/y_obs.p')\n",
    "\n",
    "fig, axs = plt.subplots(nrows=2, ncols=2)\n",
    "fig.set_size_inches(.95*LATEX_WIDTH, .85*LATEX_WIDTH)\n",
    "plt.subplots_adjust(top = .99, bottom=.01, left=.01, right=.99, hspace=.05, wspace=.05)\n",
    "\n",
    "\n",
    "# Make plots\n",
    "\n",
    "x = np.linspace(*xlims, n_steps)\n",
    "y = np.linspace(*ylims, n_steps)\n",
    "X, Y = np.meshgrid(x, y)\n",
    "\n",
    "for i in range(2):\n",
    "    for j in range(2):\n",
    "        # Get setting for subfigure\n",
    "        ax = axs[i, j]\n",
    "        method = methods[i]\n",
    "        mode = modes[j]\n",
    "\n",
    "        densities = get_densities(mode=mode, method=method)\n",
    "\n",
    "        # Plot densities\n",
    "        for density_type in ['prior', 'gibbs_prior']:\n",
    "            density = densities[density_type]\n",
    "            Z = grid_eval_fn(density, X, Y)\n",
    "            label = None\n",
    "            if i == 0 and j == 0:\n",
    "                label = labels[density_type]\n",
    "            sns_plot_density(ax=ax, X=X, Y=Y, Z=Z, color=colors[density_type], alpha=alphas[density_type],\n",
    "                             linestyles=linestyles[density_type], linewidths=linewidths[density_type], label=label)\n",
    "        # Plot pi_y only for skewed_prior\n",
    "        if mode == 'skewed_prior':\n",
    "            density_type = 'pi_y'\n",
    "            for k in range(y_obs.shape[0]):\n",
    "                density = densities['get_eap'](y_obs[k])\n",
    "                Z = grid_eval_fn(density, X, Y)\n",
    "                label = None\n",
    "                if i == 0 and j == 0 and k == 0:\n",
    "                    label = labels[density_type]\n",
    "                sns_plot_density(ax=ax, X=X, Y=Y, Z=Z, color=colors[density_type], alpha=alphas[density_type],\n",
    "                             linestyles=linestyles[density_type], linewidths=linewidths[density_type], label=label)\n",
    "\n",
    "        # Set lims\n",
    "        ax.set_xlim(xlims)\n",
    "        ax.set_ylim(ylims)\n",
    "\n",
    "        # Ticks\n",
    "        ax.set_xticks([-2, -1, 0, 1, 2])\n",
    "        ax.set_yticks([-1, 0, 1])\n",
    "\n",
    "        ax.set_xticklabels(['', -1, 0, 1, ''])\n",
    "        if j==0:\n",
    "            ax.set_yticklabels([-1, 0, 1])\n",
    "        else:\n",
    "            ax.set_yticklabels([])\n",
    "\n",
    "# Legend\n",
    "fig.legend(loc='center', framealpha=1, frameon=True)\n",
    "\n",
    "# Set row and column titles\n",
    "row_titles = [r'\\texttt{reverse}', r'\\texttt{forward}']\n",
    "col_titles = [r'\\texttt{correlated prior}', r'\\texttt{correlated likelihood}']\n",
    "for ax, col in zip(axs[0], col_titles):\n",
    "    ax.set_title(col)\n",
    "for ax, row in zip(axs[:,0], row_titles):\n",
    "    ax.set_ylabel(row, rotation=90)\n",
    "\n",
    "\n",
    "if save_path is not None:\n",
    "    plt.savefig(fname=save_path, bbox_inches='tight')\n",
    "\n",
    "plt.show()"
   ],
   "metadata": {
    "collapsed": false,
    "pycharm": {
     "name": "#%%\n"
    }
   }
  },
  {
   "cell_type": "markdown",
   "source": [
    "# Posterior plots"
   ],
   "metadata": {
    "collapsed": false
   }
  },
  {
   "cell_type": "code",
   "execution_count": 4,
   "outputs": [
    {
     "data": {
      "text/plain": "<Figure size 191.52x171.36 with 4 Axes>",
      "image/png": "[encoded data removed]"
     },
     "metadata": {},
     "output_type": "display_data"
    }
   ],
   "source": [
    "# Hyperparameters\n",
    "xlims = [-2, 2]\n",
    "ylims = [-1.7, 1.7]\n",
    "n_steps = 200\n",
    "save_path = '../fig/example_posteriors.pdf'\n",
    "colors = {'posterior' : 'royalblue', 'approx' : 'crimson', 'gibbs_posterior' : 'green'}\n",
    "alphas = {'posterior' : .6, 'approx' : .6, 'gibbs_posterior' : .3}\n",
    "linestyles = {'posterior' : '-', 'approx' : '--', 'gibbs_posterior' : '-.'}\n",
    "linewidths = {'posterior' : 1, 'approx' : 1, 'gibbs_posterior' : 1}\n",
    "labels = {'posterior' : r'Posterior $p(\\cdot|y)$',\n",
    "          'approx' : r'Approximation $q(\\cdot|y)$',\n",
    "          'gibbs_posterior' : r'Posterior under Gibbs prior'}\n",
    "modes = ['skewed_prior', 'skewed_like']\n",
    "methods = ['inner', 'outer']\n",
    "\n",
    "# Hand-crafted points for pi_y\n",
    "y_obs = load_dict('../data/y_obs.p')\n",
    "\n",
    "fig, axs = plt.subplots(nrows=2, ncols=2)\n",
    "fig.set_size_inches(.95*LATEX_WIDTH, .85*LATEX_WIDTH)\n",
    "plt.subplots_adjust(top = .99, bottom=.01, left=.01, right=.99, hspace=.05, wspace=.05)\n",
    "\n",
    "# Make plots\n",
    "\n",
    "x = np.linspace(*xlims, n_steps)\n",
    "y = np.linspace(*ylims, n_steps)\n",
    "X, Y = np.meshgrid(x, y)\n",
    "\n",
    "for i in range(2):\n",
    "    for j in range(2):\n",
    "        # Get setting for subfigure\n",
    "        ax = axs[i, j]\n",
    "        method = methods[i]\n",
    "        mode = modes[j]\n",
    "\n",
    "        densities = get_densities(mode=mode, method=method)\n",
    "\n",
    "        # Plot densities\n",
    "        for density_type in ['posterior', 'approx', 'gibbs_posterior']:\n",
    "            density = densities[density_type]\n",
    "            Z = grid_eval_fn(density, X, Y)\n",
    "            label = None\n",
    "            if i == 0 and j == 0:\n",
    "                label = labels[density_type]\n",
    "            sns_plot_density(ax=ax, X=X, Y=Y, Z=Z, color=colors[density_type], alpha=alphas[density_type],\n",
    "                             linestyles=linestyles[density_type], linewidths=linewidths[density_type], label=label)\n",
    "\n",
    "        # Set lims\n",
    "        ax.set_xlim(xlims)\n",
    "        ax.set_ylim(ylims)\n",
    "\n",
    "        # Ticks\n",
    "        ax.set_xticks([-2, -1, 0, 1, 2])\n",
    "        ax.set_yticks([-1, 0, 1])\n",
    "\n",
    "        ax.set_xticklabels(['', -1, 0, 1, ''])\n",
    "        if j==0:\n",
    "            ax.set_yticklabels([-1, 0, 1])\n",
    "        else:\n",
    "            ax.set_yticklabels([])\n",
    "\n",
    "# Legend\n",
    "fig.legend(loc='center', framealpha=1, frameon=True)\n",
    "# fig.legend()\n",
    "\n",
    "# Set row and column titles\n",
    "row_titles = [r'\\texttt{reverse}', r'\\texttt{forward}']\n",
    "col_titles = [r'\\texttt{correlated prior}', r'\\texttt{correlated likelihood}']\n",
    "for ax, col in zip(axs[0], col_titles):\n",
    "    ax.set_title(col)\n",
    "for ax, row in zip(axs[:,0], row_titles):\n",
    "    ax.set_ylabel(row, rotation=90)\n",
    "\n",
    "\n",
    "if save_path is not None:\n",
    "    plt.savefig(fname=save_path, bbox_inches='tight')\n",
    "\n",
    "plt.show()"
   ],
   "metadata": {
    "collapsed": false,
    "pycharm": {
     "name": "#%%\n"
    }
   }
  },
  {
   "cell_type": "markdown",
   "source": [
    "# Compactness\n",
    "1. Generalized variance is defined as the determinant of the covariance matrix\n",
    "2. Entropy is a natural measure of covariance, but is"
   ],
   "metadata": {
    "collapsed": false,
    "pycharm": {
     "name": "#%% md\n"
    }
   }
  },
  {
   "cell_type": "code",
   "execution_count": 5,
   "outputs": [],
   "source": [
    "def gaussian_generalized_variance_and_entropy(cov_matrix):\n",
    "    \"\"\"Returns the entropy of a Gaussian distribution with given covariance matrix.\"\"\"\n",
    "    d = cov_matrix.shape[0]\n",
    "    gen_var = np.linalg.det(cov_matrix)\n",
    "    entropy = d / 2 * (1 + np.log(2 * np.pi)) + .5 * np.log(gen_var)\n",
    "    return np.round(gen_var, 3), np.round(entropy, 3)"
   ],
   "metadata": {
    "collapsed": false,
    "pycharm": {
     "name": "#%%\n"
    }
   }
  },
  {
   "cell_type": "code",
   "execution_count": 6,
   "outputs": [
    {
     "name": "stdout",
     "output_type": "stream",
     "text": [
      "Setting: mode=correlated prior, method=reverse\n",
      "    Prior: entropy=2.236, gen_var=0.3\n",
      "    Gibbs prior: entropy=2.21, gen_var=0.285\n",
      "    Posterior: entropy=1.495, gen_var=0.068\n",
      "    Approximate posterior: entropy=1.019, gen_var=0.026\n",
      "Setting: mode=correlated prior, method=forward\n",
      "    Prior: entropy=2.236, gen_var=0.3\n",
      "    Gibbs prior: entropy=2.823, gen_var=0.971\n",
      "    Posterior: entropy=1.495, gen_var=0.068\n",
      "    Approximate posterior: entropy=1.971, gen_var=0.177\n",
      "Setting: mode=correlated likelihood, method=reverse\n",
      "    Prior: entropy=2.838, gen_var=1.0\n",
      "    Gibbs prior: entropy=2.517, gen_var=0.526\n",
      "    Posterior: entropy=1.495, gen_var=0.068\n",
      "    Approximate posterior: entropy=1.019, gen_var=0.026\n",
      "Setting: mode=correlated likelihood, method=forward\n",
      "    Prior: entropy=2.838, gen_var=1.0\n",
      "    Gibbs prior: entropy=3.153, gen_var=1.88\n",
      "    Posterior: entropy=1.495, gen_var=0.068\n",
      "    Approximate posterior: entropy=1.971, gen_var=0.177\n"
     ]
    }
   ],
   "source": [
    "n = 1\n",
    "for mode in ['skewed_prior', 'skewed_like']:\n",
    "    Sigma_0, Sigma = load_covariances(mode)\n",
    "    for method in ['inner', 'outer']:\n",
    "        paper_method = 'reverse' if method=='inner' else 'forward'\n",
    "        paper_mode = 'correlated prior' if mode=='skewed_prior' else 'correlated likelihood'\n",
    "        Sigma_G = get_gibbs_prior_covariance(Sigma_0=Sigma_0, Sigma=Sigma, n=n, method=method)\n",
    "        Sigma_n, Lambda_n = get_posterior_covariances(Sigma_0=Sigma_0, Sigma=Sigma, n=n, method=method)\n",
    "\n",
    "        # Print results\n",
    "        print(f'Setting: mode={paper_mode}, method={paper_method}')\n",
    "        # Prior\n",
    "        gen_var, entropy = gaussian_generalized_variance_and_entropy(Sigma_0)\n",
    "        print(f'    Prior: entropy={entropy}, gen_var={gen_var}')\n",
    "        # Gibbs Prior\n",
    "        gen_var, entropy = gaussian_generalized_variance_and_entropy(Sigma_G)\n",
    "        print(f'    Gibbs prior: entropy={entropy}, gen_var={gen_var}')\n",
    "        # Posterior\n",
    "        gen_var, entropy = gaussian_generalized_variance_and_entropy(Sigma_n)\n",
    "        print(f'    Posterior: entropy={entropy}, gen_var={gen_var}')\n",
    "        # Approximate posterior\n",
    "        gen_var, entropy = gaussian_generalized_variance_and_entropy(Lambda_n)\n",
    "        print(f'    Approximate posterior: entropy={entropy}, gen_var={gen_var}')"
   ],
   "metadata": {
    "collapsed": false,
    "pycharm": {
     "name": "#%%\n"
    }
   }
  },
  {
   "cell_type": "markdown",
   "source": [
    "# Correlation\n",
    "Compare the correlation of $x_1$ and $x_2$ under the prior covariance $(\\Sigma_0)_{1,2}$ and the Gibbs prior covariance $(\\Sigma_G)_{1,2}$"
   ],
   "metadata": {
    "collapsed": false,
    "pycharm": {
     "name": "#%% md\n"
    }
   }
  },
  {
   "cell_type": "code",
   "execution_count": 7,
   "outputs": [
    {
     "name": "stdout",
     "output_type": "stream",
     "text": [
      "Setting: mode=correlated prior, method=reverse\n",
      "    Prior=1.45, Gibbs prior=0.742\n",
      "Setting: mode=correlated prior, method=forward\n",
      "    Prior=1.45, Gibbs prior=0.907\n",
      "Setting: mode=correlated likelihood, method=reverse\n",
      "    Prior=0.0, Gibbs prior=-0.519\n",
      "Setting: mode=correlated likelihood, method=forward\n",
      "    Prior=0.0, Gibbs prior=-1.125\n"
     ]
    }
   ],
   "source": [
    "n = 1\n",
    "for mode in ['skewed_prior', 'skewed_like']:\n",
    "    Sigma_0, Sigma = load_covariances(mode)\n",
    "    for method in ['inner', 'outer']:\n",
    "        paper_method = 'reverse' if method=='inner' else 'forward'\n",
    "        paper_mode = 'correlated prior' if mode=='skewed_prior' else 'correlated likelihood'\n",
    "        Sigma_G = get_gibbs_prior_covariance(Sigma_0=Sigma_0, Sigma=Sigma, n=n, method=method)\n",
    "        # Print results\n",
    "        print(f'Setting: mode={paper_mode}, method={paper_method}')\n",
    "        print(f'    Prior={Sigma_0[0, 1]}, Gibbs prior={np.round(Sigma_G[0, 1], 3)}')"
   ],
   "metadata": {
    "collapsed": false,
    "pycharm": {
     "name": "#%%\n"
    }
   }
  }
 ],
 "metadata": {
  "kernelspec": {
   "display_name": "Python 3",
   "language": "python",
   "name": "python3"
  },
  "language_info": {
   "codemirror_mode": {
    "name": "ipython",
    "version": 2
   },
   "file_extension": ".py",
   "mimetype": "text/x-python",
   "name": "python",
   "nbconvert_exporter": "python",
   "pygments_lexer": "ipython2",
   "version": "2.7.6"
  }
 },
 "nbformat": 4,
 "nbformat_minor": 0
}