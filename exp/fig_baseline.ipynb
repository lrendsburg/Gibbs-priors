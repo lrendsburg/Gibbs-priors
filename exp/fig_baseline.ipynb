{
 "cells": [
  {
   "cell_type": "code",
   "execution_count": 2,
   "metadata": {
    "collapsed": true
   },
   "outputs": [],
   "source": [
    "import os\n",
    "import numpy as np\n",
    "import numpyro.distributions as dist\n",
    "from jax import random\n",
    "from scipy.stats import binom\n",
    "\n",
    "import seaborn as sns\n",
    "import matplotlib.pyplot as plt\n",
    "# Plots\n",
    "plt.style.use('seaborn-whitegrid')\n",
    "\n",
    "# PLOT PREAMBLE: LIKE LATEX\n",
    "LATEX_WIDTH = 6\n",
    "LATEX_HEIGHT = 3.24\n",
    "\n",
    "SCRIPT_SIZE = 7\n",
    "\n",
    "#Direct input\n",
    "plt.rcParams['text.latex.preamble']=r\"\\usepackage{lmodern}\"\n",
    "#Options\n",
    "params = {'text.usetex' : True,\n",
    "          'font.size' : SCRIPT_SIZE,\n",
    "          'axes.labelsize' : SCRIPT_SIZE,\n",
    "          'xtick.labelsize' : SCRIPT_SIZE,\n",
    "          'ytick.labelsize' : SCRIPT_SIZE,\n",
    "          'legend.fontsize' : SCRIPT_SIZE,\n",
    "          'figure.titlesize' : SCRIPT_SIZE,\n",
    "          'font.family' : 'serif',\n",
    "          'font.serif': ['Computer Modern Roman']\n",
    "          }\n",
    "plt.rcParams.update(params)"
   ]
  },
  {
   "cell_type": "markdown",
   "source": [
    "## Talts et. al (2018) baseline for\n",
    "- Log-normal experiment with test statistics $f_1(\\theta)=\\mu$, $f_2(\\theta)=\\sigma^2$\n",
    "- Volatility experiment with test statistics $g(\\theta)=\\overline{\\theta}$ for each approximation method"
   ],
   "metadata": {
    "collapsed": false,
    "pycharm": {
     "name": "#%% md\n"
    }
   }
  },
  {
   "cell_type": "markdown",
   "source": [
    "### Generating the data\n",
    "Each setting gives a matrix of shape (num_samples_joint, num_samples_approx + 1, dim_data).\n",
    "The test statistic is applied to every entry, which yields a matrix of shape (num_samples_joint, num_samples_approx + 1).\n",
    "The rank of the first entry w.r.t. to the other entries is computed to give a vector of shape (num_samples_joint), whose histogram is plotted.\n"
   ],
   "metadata": {
    "collapsed": false,
    "pycharm": {
     "name": "#%% md\n"
    }
   }
  },
  {
   "cell_type": "code",
   "execution_count": 3,
   "outputs": [],
   "source": [
    "def ranks_from_tensor(data_tensor, statistic_fn, num_rebins=0):\n",
    "    \"\"\"Generates array of ranks from a data tensor of Talts et. al (2018).\n",
    "    Input:\n",
    "        data_tensor (np.array): shape (num_samples_joint, num_samples_approx + 1, dim_data). First dimension is independent repititions over the Bayesion model, second dimensions are samples from the approximation and as first entry the prior sample, and last dimension are the latent vectors.\n",
    "        statistic_fn (function): summary statistic that is applied to every latent vector before computing ranks.\n",
    "        num_rebins (integer): Number of times the resulting ranks are rebinned. Every rebinning halfs the ranks.\n",
    "    Output:\n",
    "        ranks (np.array): rank vectors\n",
    "    \"\"\"\n",
    "    num_joint, num_samples, dim_data = data_tensor.shape\n",
    "\n",
    "    # Apply summary statistic\n",
    "    data_statistics = np.zeros((num_joint, num_samples))\n",
    "    for i in range(num_joint):\n",
    "        for j in range(num_samples):\n",
    "            data_statistics[i, j] = statistic_fn(data_tensor[i, j, :])\n",
    "\n",
    "    # Compute ranks\n",
    "    ranks = np.zeros(num_joint)\n",
    "    for i in range(num_joint):\n",
    "        # Using argsort twice gives rank of the respective position\n",
    "        ranks[i] = np.argsort(np.argsort(data_statistics[i, :]))[0]\n",
    "    # Rebinning (merge ranks (i, i+1) -> i, (i+2, i+3) -> i+2, ....)\n",
    "    assert (num_samples+1) % 2**num_rebins == 0, \"num_samples+1 needs to be divisible by 2^num_rebins.\"\n",
    "    while num_rebins > 0:\n",
    "        ranks = np.floor(ranks/2).astype(int)\n",
    "        num_rebins -= 1\n",
    "    return ranks"
   ],
   "metadata": {
    "collapsed": false,
    "pycharm": {
     "name": "#%%\n"
    }
   }
  },
  {
   "cell_type": "code",
   "source": [
    "def generate_noisy_tensor(num_joint, num_samples, dim_data):\n",
    "    \"\"\"Placeholder for real Markov chains.\"\"\"\n",
    "    return np.random.normal(loc=0, scale=1, size=(num_joint, num_samples, dim_data))\n",
    "\n",
    "# Load the data in data_tensors: [num_joint, num_samples, dim_data]\n",
    "data_dict = {'log_normal' : np.load(f'../res/abc/baseline/baseline.npy')[:, :31, :],\n",
    "             'volatility_nuts_long' : np.load('../res/volatility/baseline/baseline_mcmc_long.npy')[:, :31, :],\n",
    "             'volatility_nuts_short' : np.load('../res/volatility/baseline/baseline_mcmc_short.npy')[:, :31, :],\n",
    "             'volatility_vb_full' : np.load('../res/volatility/baseline/baseline_vb_full.npy')[:, :31, :],\n",
    "             'volatility_vb_diag' : np.load('../res/volatility/baseline/baseline_vb_diag.npy')[:, :31, :]}\n",
    "# for key in data_dict.keys():\n",
    "#     dim_data = 2 if key=='log_normal' else 100\n",
    "#     data_dict[key] = generate_noisy_tensor(num_joint=500, num_samples=20, dim_data=dim_data)\n",
    "\n",
    "# Compute rank arrays\n",
    "num_rebins = 1\n",
    "rank_dict = {'ln_mu' : ranks_from_tensor(data_tensor=data_dict['log_normal'], statistic_fn=lambda x:x[0], num_rebins=num_rebins),\n",
    "             'ln_sigma' : ranks_from_tensor(data_tensor=data_dict['log_normal'], statistic_fn=lambda x:x[1], num_rebins=num_rebins),\n",
    "             'vol_long' : ranks_from_tensor(data_tensor=data_dict['volatility_nuts_long'], statistic_fn=lambda x:np.mean(x), num_rebins=num_rebins),\n",
    "             'vol_short' : ranks_from_tensor(data_tensor=data_dict['volatility_nuts_short'], statistic_fn=lambda x:np.mean(x), num_rebins=num_rebins),\n",
    "             'vol_full' : ranks_from_tensor(data_tensor=data_dict['volatility_vb_full'], statistic_fn=lambda x:np.mean(x), num_rebins=num_rebins),\n",
    "             'vol_diag' : ranks_from_tensor(data_tensor=data_dict['volatility_vb_diag'], statistic_fn=lambda x:np.mean(x), num_rebins=num_rebins)}\n",
    "\n",
    "def get_quantiles(N, L, lower_quant, upper_quant):\n",
    "    \"\"\"Computes quantiles of the Bin(N, (L+1)^{-1}) distribution for confidence band of rank statistics.\"\"\"\n",
    "    lower = binom.ppf(q=lower_quant, n=N, p=1/(L+1))\n",
    "    upper = binom.ppf(q=upper_quant, n=N, p=1/(L+1))\n",
    "    return lower, upper"
   ],
   "metadata": {
    "collapsed": false,
    "pycharm": {
     "name": "#%%\n"
    }
   },
   "execution_count": 4,
   "outputs": []
  },
  {
   "cell_type": "markdown",
   "source": [
    "### Larger plots: every method + summary statistic gets their own plot"
   ],
   "metadata": {
    "collapsed": false,
    "pycharm": {
     "name": "#%% md\n"
    }
   }
  },
  {
   "cell_type": "code",
   "execution_count": 8,
   "outputs": [
    {
     "name": "stdout",
     "output_type": "stream",
     "text": [
      "(323, 31, 2)\n"
     ]
    }
   ],
   "source": [
    "print(data_dict['log_normal'].shape)"
   ],
   "metadata": {
    "collapsed": false,
    "pycharm": {
     "name": "#%%\n"
    }
   }
  },
  {
   "cell_type": "code",
   "execution_count": 7,
   "outputs": [
    {
     "data": {
      "text/plain": "<Figure size 453.6x51.84 with 6 Axes>",
      "image/png": "[encoded data removed]"
     },
     "metadata": {},
     "output_type": "display_data"
    }
   ],
   "source": [
    "col_hist='crimson'\n",
    "N = data_dict['log_normal'].shape[0]\n",
    "L = (data_dict['log_normal'].shape[1] - 1) / 2 ** num_rebins\n",
    "bins = np.arange(L+1)\n",
    "xlims = (0, L)\n",
    "conf_linewidth = 1\n",
    "lower_conf, upper_conf = get_quantiles(N, L, lower_quant=.005, upper_quant=.995)\n",
    "\n",
    "method_names = {'ln_mu' : r'Log-normals ($\\mu$)',\n",
    "                'ln_sigma' : r'Log-normals ($\\sigma^2$)',\n",
    "                'vol_long' : 'NUTS-long',\n",
    "                'vol_short' : 'NUTS-short',\n",
    "                'vol_full' : 'ADVI-fr',\n",
    "                'vol_diag' : 'ADVI-mf'}\n",
    "\n",
    "methods_order = {0 : 'ln_mu',\n",
    "                 1 : 'ln_sigma',\n",
    "                 2 : 'vol_long',\n",
    "                 3 : 'vol_short',\n",
    "                 4 : 'vol_full',\n",
    "                 5 : 'vol_diag'}\n",
    "fig, axs = plt.subplots(nrows=1, ncols=6, sharey=True)\n",
    "fig.set_size_inches(1.05* LATEX_WIDTH, .12*LATEX_WIDTH)\n",
    "plt.subplots_adjust(top = .99, bottom=.01, left=.01, right=.99, hspace=.4, wspace=.2)\n",
    "\n",
    "# Histograms\n",
    "for j in range(len(rank_dict)):\n",
    "    # Confidence band\n",
    "    axs[j].fill_between(np.arange(xlims[0], xlims[1]+1), lower_conf, upper_conf, color='gray', alpha=.5)\n",
    "    axs[j].axhline(y=lower_conf, color='gray', linestyle='--', linewidth=conf_linewidth)\n",
    "    axs[j].axhline(y=upper_conf, color='gray', linestyle='--', linewidth=conf_linewidth)\n",
    "\n",
    "    # Ranks\n",
    "    method = methods_order[j]\n",
    "    ranks = rank_dict[method]\n",
    "    axs[j].hist(ranks, bins=bins, color=col_hist, rwidth=.95)\n",
    "\n",
    "\n",
    "\n",
    "\n",
    "    # Annotation\n",
    "    axs[j].set_title(method_names[methods_order[j]])\n",
    "    axs[j].set_xlabel('Rank')\n",
    "    axs[j].set_yticklabels([])\n",
    "    axs[j].set_xlim(xlims)\n",
    "    axs[j].set_xticks([0, round(L/2), L])\n",
    "    axs[j].set_ylim((0, 50))\n",
    "\n",
    "\n",
    "plt.savefig('../fig/baseline.pdf', bbox_inches='tight')\n",
    "plt.show()"
   ],
   "metadata": {
    "collapsed": false,
    "pycharm": {
     "name": "#%%\n"
    }
   }
  }
 ],
 "metadata": {
  "kernelspec": {
   "display_name": "Python 3",
   "language": "python",
   "name": "python3"
  },
  "language_info": {
   "codemirror_mode": {
    "name": "ipython",
    "version": 2
   },
   "file_extension": ".py",
   "mimetype": "text/x-python",
   "name": "python",
   "nbconvert_exporter": "python",
   "pygments_lexer": "ipython2",
   "version": "2.7.6"
  }
 },
 "nbformat": 4,
 "nbformat_minor": 0
}