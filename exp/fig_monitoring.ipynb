{
 "cells": [
  {
   "cell_type": "code",
   "execution_count": 1,
   "metadata": {
    "collapsed": true
   },
   "outputs": [],
   "source": [
    "import os\n",
    "import numpy as np\n",
    "import numpyro.distributions as dist\n",
    "from jax import random\n",
    "\n",
    "import seaborn as sns\n",
    "import matplotlib.pyplot as plt\n",
    "# Plots\n",
    "plt.style.use('seaborn-whitegrid')\n",
    "\n",
    "# PLOT PREAMBLE: LIKE LATEX\n",
    "LATEX_WIDTH = 6\n",
    "LATEX_HEIGHT = 3.24\n",
    "\n",
    "SCRIPT_SIZE = 7\n",
    "\n",
    "#Direct input\n",
    "plt.rcParams['text.latex.preamble']=r\"\\usepackage{lmodern}\"\n",
    "#Options\n",
    "params = {'text.usetex' : True,\n",
    "          'font.size' : SCRIPT_SIZE,\n",
    "          'axes.labelsize' : SCRIPT_SIZE,\n",
    "          'xtick.labelsize' : SCRIPT_SIZE,\n",
    "          'ytick.labelsize' : SCRIPT_SIZE,\n",
    "          'legend.fontsize' : SCRIPT_SIZE,\n",
    "          'figure.titlesize' : SCRIPT_SIZE,\n",
    "          'font.family' : 'serif',\n",
    "          'font.serif': ['Computer Modern Roman']\n",
    "          }\n",
    "plt.rcParams.update(params)"
   ]
  },
  {
   "cell_type": "markdown",
   "source": [
    "## $\\hat{R}$-statistics and lag-$k$-autocorrelation versus number of iterations"
   ],
   "metadata": {
    "collapsed": false,
    "pycharm": {
     "name": "#%% md\n"
    }
   }
  },
  {
   "cell_type": "markdown",
   "source": [
    "### Loading the data"
   ],
   "metadata": {
    "collapsed": false,
    "pycharm": {
     "name": "#%% md\n"
    }
   }
  },
  {
   "cell_type": "code",
   "execution_count": 100,
   "outputs": [],
   "source": [
    "from numpyro.diagnostics import gelman_rubin\n",
    "from numpyro.diagnostics import autocorrelation\n",
    "\n",
    "def R_hat_from_chains(MC_chains):\n",
    "    \"\"\"Computes r_hat for each iteration and dimension based on multiple chains.\n",
    "    Input:\n",
    "        MC_chains (np.array): shape (num_chains, num_samples, dim_data).\n",
    "    Output:\n",
    "        R_hat (np.array): shape (dim_data, num_samples). The first value is nan, because the diagnostic\n",
    "        requires at least two samples.\n",
    "    \"\"\"\n",
    "    num_chains, num_samples, dim_data = MC_chains.shape\n",
    "    R_hat = np.zeros((dim_data, num_samples))\n",
    "    R_hat[:, 0] = np.nan\n",
    "    for i in range(2, num_samples):\n",
    "        R_hat[:, i] = gelman_rubin(MC_chains[:, :i, :])\n",
    "    return R_hat\n",
    "\n",
    "def auto_corr_from_chain(MC_chain):\n",
    "    \"\"\"Computes the lag-k autocorrelation of a single MCMC chain.\n",
    "    Input:\n",
    "        MC_chain (np.array): shape (num_samples, dim_data)\n",
    "    Output:\n",
    "        auto_corr (np.array): shape (dim_data, num_samples)\n",
    "    \"\"\"\n",
    "    autocorrs = autocorrelation(MC_chain, axis=0)\n",
    "    return autocorrs.T"
   ],
   "metadata": {
    "collapsed": false,
    "pycharm": {
     "name": "#%%\n"
    }
   }
  },
  {
   "cell_type": "code",
   "execution_count": 101,
   "outputs": [],
   "source": [
    "# Load the data in MC_chains: [n_chain, n_sample, datapoint]\n",
    "len_chain = 500\n",
    "MC_chains = {'log_normal' : np.load(f'../res/abc/diagnostics/multi_chains_laplace.npy')[:,:len_chain,:],\n",
    "             'volatility_nuts_long' : np.load(f'../res/volatility/diagnostics/multi_chains_mcmc_long.npy')[:,:len_chain,:],\n",
    "             'volatility_nuts_short' : np.load(f'../res/volatility/diagnostics/multi_chains_mcmc_short.npy')[:,:len_chain,:],\n",
    "             'volatility_vb_full' : np.load(f'../res/volatility/diagnostics/multi_chains_vb_full.npy')[:,:len_chain,:],\n",
    "             'volatility_vb_diag' : np.load(f'../res/volatility/diagnostics/multi_chains_vb_diag.npy')[:,:len_chain,:]}\n",
    "\n",
    "# Compute R_hat\n",
    "R_hat = {'log_normal' : None,\n",
    "         'volatility_nuts_long' : None,\n",
    "         'volatility_nuts_short' : None,\n",
    "         'volatility_vb_full' : None,\n",
    "         'volatility_vb_diag' : None}\n",
    "for key in R_hat.keys():\n",
    "    R_hat[key] = R_hat_from_chains(MC_chains[key])\n",
    "\n",
    "# Compute autocorrelations\n",
    "auto_corr = {'log_normal' : None,\n",
    "             'volatility_nuts_long' : None,\n",
    "             'volatility_nuts_short' : None,\n",
    "             'volatility_vb_full' : None,\n",
    "             'volatility_vb_diag' : None}\n",
    "for key in auto_corr.keys():\n",
    "    # Pick first chain for every method\n",
    "    auto_corr[key] = auto_corr_from_chain(MC_chains[key][0])"
   ],
   "metadata": {
    "collapsed": false,
    "pycharm": {
     "name": "#%%\n"
    }
   }
  },
  {
   "cell_type": "markdown",
   "source": [
    "### Larger plots: every method gets their own plot"
   ],
   "metadata": {
    "collapsed": false,
    "pycharm": {
     "name": "#%% md\n"
    }
   }
  },
  {
   "cell_type": "code",
   "execution_count": 105,
   "outputs": [
    {
     "data": {
      "text/plain": "<Figure size 432x64.8 with 10 Axes>",
      "image/png": "[encoded data removed]"
     },
     "metadata": {},
     "output_type": "display_data"
    }
   ],
   "source": [
    "alpha= [1] + 4 * [.1]\n",
    "linewidths = 5 * [1]\n",
    "color = 'royalblue'\n",
    "\n",
    "T = R_hat['log_normal'].shape[1]\n",
    "ts = np.arange(T)\n",
    "\n",
    "method_names = {'log_normal' : 'Log-normals',\n",
    "                'volatility_nuts_long' : 'NUTS-long',\n",
    "                'volatility_nuts_short' : 'NUTS-short',\n",
    "                'volatility_vb_full' : 'ADVI-fr',\n",
    "                'volatility_vb_diag' : 'ADVI-mf'}\n",
    "\n",
    "methods_order = {0 : 'log_normal',\n",
    "                 1 : 'volatility_nuts_long',\n",
    "                 2 : 'volatility_nuts_short',\n",
    "                 3 : 'volatility_vb_full',\n",
    "                 4 : 'volatility_vb_diag'}\n",
    "\n",
    "\n",
    "fig, axs = plt.subplots(nrows=2, ncols=5)\n",
    "fig.set_size_inches(LATEX_WIDTH, .15*LATEX_WIDTH)\n",
    "plt.subplots_adjust(top = .99, bottom=.01, left=.01, right=.99, hspace=1.5, wspace=.2)\n",
    "\n",
    "\n",
    "\n",
    "\n",
    "for j in range(5):\n",
    "    method = methods_order[j]\n",
    "    d = R_hat[method].shape[0]\n",
    "\n",
    "    # R_hat\n",
    "    for k in range(d):\n",
    "        axs[0, j].plot(ts, R_hat[method][k, :], color=color, alpha=alpha[j], linewidth=linewidths[j])\n",
    "\n",
    "    # Autocorrelation\n",
    "    for k in range(d):\n",
    "        axs[1, j].plot(ts, auto_corr[method][k, :], color=color, alpha=alpha[j], linewidth=linewidths[j])\n",
    "\n",
    "    ## Orientation line for R_hat\n",
    "    axs[0, j].axhline(1, c='k', linestyle='--', lw=1)\n",
    "    axs[1, j].axhline(0, c='k', linestyle='--', lw=1)\n",
    "\n",
    "    ## Axes\n",
    "    axs[0, j].set_ylim([.5, 1.5])\n",
    "    axs[1, j].set_ylim([-.5, .5])\n",
    "    axs[0, j].set_xlim([0, 100])\n",
    "    axs[1, j].set_xlim([0, 100])\n",
    "    # Hide y-labels\n",
    "    for i in range(2):\n",
    "        if j!=0:\n",
    "            axs[i, j].set_yticklabels([])\n",
    "    # Hide x-labels\n",
    "    # axs[0, j].set_xticklabels([])\n",
    "\n",
    "\n",
    "# Annotation\n",
    "for j in range(5):\n",
    "    axs[0, j].set_title(method_names[methods_order[j]])\n",
    "    axs[0, j].set_xlabel('Iteration')\n",
    "    axs[1, j].set_xlabel('Lag')\n",
    "\n",
    "axs[0, 0].set_ylabel(r'$\\hat{R}$')\n",
    "axs[1, 0].set_ylabel('Auto-\\ncorrelation')\n",
    "\n",
    "# plt.legend(framealpha=1, frameon=True, loc='lower right')\n",
    "# plt.legend(framealpha=1, frameon=True)\n",
    "\n",
    "# plt.tight_layout()\n",
    "plt.savefig('../fig/monitoring.pdf', bbox_inches='tight')\n",
    "plt.show()"
   ],
   "metadata": {
    "collapsed": false,
    "pycharm": {
     "name": "#%%\n"
    }
   }
  },
  {
   "cell_type": "markdown",
   "source": [
    "# Test the functions with baseline random walk"
   ],
   "metadata": {
    "collapsed": false,
    "pycharm": {
     "name": "#%% md\n"
    }
   }
  },
  {
   "cell_type": "code",
   "execution_count": 80,
   "outputs": [],
   "source": [
    "def baseline_MC(n_chains, n_samples, dim_data, scale=2):\n",
    "    MC_chains = np.zeros((n_chains, n_samples, dim_data))\n",
    "    for i in range(n_chains):\n",
    "        chain = np.zeros((n_samples, dim_data))\n",
    "        chain[0] = np.random.multivariate_normal(mean=np.zeros(dim_data), cov=10*np.eye(dim_data))\n",
    "        for j in range(1, n_samples):\n",
    "            chain[j] = np.random.multivariate_normal(mean=chain[j-1]/scale, cov=np.eye(dim_data))\n",
    "        MC_chains[i] = chain\n",
    "    return MC_chains\n",
    "# def baseline_MC(n_chains, n_samples, dim_data):\n",
    "#     MC_chains = np.random.normal(loc=0, scale=1, size=(n_chains, n_samples, dim_data))\n",
    "#     return MC_chains"
   ],
   "metadata": {
    "collapsed": false,
    "pycharm": {
     "name": "#%%\n"
    }
   }
  },
  {
   "cell_type": "code",
   "execution_count": 69,
   "outputs": [],
   "source": [
    "len_chain = 500\n",
    "MC_chains = {'log_normal' : baseline_MC(n_chains=5, n_samples=len_chain, dim_data=2),\n",
    "             'volatility_nuts_long' : baseline_MC(n_chains=5, n_samples=len_chain, dim_data=100),\n",
    "             'volatility_nuts_short' : baseline_MC(n_chains=5, n_samples=len_chain, dim_data=100),\n",
    "             'volatility_vb_full' : baseline_MC(n_chains=5, n_samples=len_chain, dim_data=100),\n",
    "             'volatility_vb_diag' : baseline_MC(n_chains=5, n_samples=len_chain, dim_data=100)}"
   ],
   "metadata": {
    "collapsed": false,
    "pycharm": {
     "name": "#%%\n"
    }
   }
  },
  {
   "cell_type": "code",
   "execution_count": 70,
   "outputs": [],
   "source": [
    "# Compute R_hat\n",
    "R_hat = {'log_normal' : None,\n",
    "         'volatility_nuts_long' : None,\n",
    "         'volatility_nuts_short' : None,\n",
    "         'volatility_vb_full' : None,\n",
    "         'volatility_vb_diag' : None}\n",
    "for key in R_hat.keys():\n",
    "    R_hat[key] = R_hat_from_chains(MC_chains[key])\n",
    "\n",
    "# Compute autocorrelations\n",
    "auto_corr = {'log_normal' : None,\n",
    "             'volatility_nuts_long' : None,\n",
    "             'volatility_nuts_short' : None,\n",
    "             'volatility_vb_full' : None,\n",
    "             'volatility_vb_diag' : None}\n",
    "for key in auto_corr.keys():\n",
    "    # Pick first chain for every method\n",
    "    auto_corr[key] = auto_corr_from_chain(MC_chains[key][0])"
   ],
   "metadata": {
    "collapsed": false,
    "pycharm": {
     "name": "#%%\n"
    }
   }
  },
  {
   "cell_type": "code",
   "execution_count": 94,
   "outputs": [],
   "source": [
    "MC_chains = baseline_MC(n_chains=5, n_samples=1000, dim_data=2, scale=2)\n",
    "R_hats = R_hat_from_chains(MC_chains)\n",
    "auto_corr = auto_corr_from_chain(MC_chains[0])"
   ],
   "metadata": {
    "collapsed": false,
    "pycharm": {
     "name": "#%%\n"
    }
   }
  },
  {
   "cell_type": "code",
   "execution_count": 97,
   "outputs": [
    {
     "data": {
      "text/plain": "<Figure size 432x288 with 1 Axes>",
      "image/png": "[encoded data removed]"
     },
     "metadata": {},
     "output_type": "display_data"
    }
   ],
   "source": [
    "chain = MC_chains[0]\n",
    "fig, ax = plt.subplots()\n",
    "ax.scatter(chain[:, 0],chain[:, 1])\n",
    "plt.show()"
   ],
   "metadata": {
    "collapsed": false,
    "pycharm": {
     "name": "#%%\n"
    }
   }
  },
  {
   "cell_type": "code",
   "execution_count": 99,
   "outputs": [
    {
     "data": {
      "text/plain": "<Figure size 432x432 with 2 Axes>",
      "image/png": "[encoded data removed]"
     },
     "metadata": {},
     "output_type": "display_data"
    }
   ],
   "source": [
    "T = MC_chains.shape[1]\n",
    "ts = np.arange(T)\n",
    "\n",
    "fig, axs = plt.subplots(nrows=2, ncols=1)\n",
    "fig.set_size_inches(LATEX_WIDTH, LATEX_WIDTH)\n",
    "plt.subplots_adjust(top = .99, bottom=.01, left=.01, right=.99, hspace=.2, wspace=.2)\n",
    "\n",
    "\n",
    "for k in range(2):\n",
    "    axs[0].plot(ts, R_hats[k, :], color=color, alpha=1, linewidth=1)\n",
    "    axs[1].plot(ts, auto_corr[k, :], color=color, alpha=1, linewidth=1)\n",
    "\n",
    "axs[0].set_ylim((.5, 1.5))\n",
    "axs[1].set_ylim((-.5, 5))\n",
    "# plt.tight_layout()\n",
    "# plt.savefig('../fig/monitoring.pdf', bbox_inches='tight')\n",
    "plt.show()"
   ],
   "metadata": {
    "collapsed": false,
    "pycharm": {
     "name": "#%%\n"
    }
   }
  }
 ],
 "metadata": {
  "kernelspec": {
   "display_name": "Python 3",
   "language": "python",
   "name": "python3"
  },
  "language_info": {
   "codemirror_mode": {
    "name": "ipython",
    "version": 2
   },
   "file_extension": ".py",
   "mimetype": "text/x-python",
   "name": "python",
   "nbconvert_exporter": "python",
   "pygments_lexer": "ipython2",
   "version": "2.7.6"
  }
 },
 "nbformat": 4,
 "nbformat_minor": 0
}